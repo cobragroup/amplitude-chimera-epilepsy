{
 "cells": [
  {
   "cell_type": "code",
   "execution_count": 1,
   "metadata": {},
   "outputs": [],
   "source": [
    "import pandas as pd\n",
    "import numpy as np\n",
    "import re\n",
    "import json"
   ]
  },
  {
   "cell_type": "code",
   "execution_count": 2,
   "metadata": {},
   "outputs": [],
   "source": [
    "#Global variables\n",
    "sampling_rate=512;"
   ]
  },
  {
   "cell_type": "code",
   "execution_count": 3,
   "metadata": {},
   "outputs": [
    {
     "data": {
      "text/plain": [
       "[Index(['fileID', 'sez_len', 'elec_no', 'delta', 'theta', 'alpha', 'beta',\n",
       "        'lgamma', 'hgamma'],\n",
       "       dtype='object')]"
      ]
     },
     "execution_count": 3,
     "metadata": {},
     "output_type": "execute_result"
    }
   ],
   "source": [
    "data=pd.read_json(\"../all_data_Swiss-Short.json\",orient=\"records\")\n",
    "[data.columns]"
   ]
  },
  {
   "cell_type": "code",
   "execution_count": 4,
   "metadata": {},
   "outputs": [],
   "source": [
    "def mean_std(arr):\n",
    "    return np.mean(arr),np.std(arr)"
   ]
  },
  {
   "cell_type": "code",
   "execution_count": 5,
   "metadata": {},
   "outputs": [],
   "source": [
    "def meanning(i,band):\n",
    "    tmp=data.loc[i,band]\n",
    "    no_datapoints = np.shape(tmp)[0]\n",
    "    if data.loc[i,'sez_len'] == (no_datapoints/sampling_rate) - (2*3*60):\n",
    "        rg=tmp[(3*60*sampling_rate) : (no_datapoints - (3*60*sampling_rate))] #Seizure Segment\n",
    "        if (len(rg)/sampling_rate)== data.loc[i,'sez_len']:\n",
    "            pre_mean,pre_std=mean_std(tmp[:(3*60*sampling_rate)])\n",
    "            sez_mean,sez_std=mean_std(rg)\n",
    "            post_mean,post_std=mean_std(tmp[no_datapoints - (3*60*sampling_rate):])\n",
    "            \n",
    "    pattern = r'\\d+'\n",
    "    matches = re.findall(pattern, data.loc[i,'fileID'])\n",
    "    pat_id,sez_id= [int(match) for match in matches]\n",
    "    return data.loc[i,'fileID'],pat_id,sez_id,band,data.loc[i,'sez_len'],data.loc[i,'elec_no'],pre_mean,pre_std,sez_mean,sez_std,post_mean,post_std"
   ]
  },
  {
   "cell_type": "code",
   "execution_count": 6,
   "metadata": {},
   "outputs": [],
   "source": [
    "# Create an empty DataFrame with the desired columns\n",
    "df = pd.DataFrame(columns=['file_ID','pat_id','sez_id','band','sez_length','no_of_elec','pre_mean','pre_cv',    'sez_mean','sez_cv','post_mean','post_cv'])\n",
    "\n",
    "for i in data.index:\n",
    "    for band in ['delta', 'theta', 'alpha', 'beta','lgamma', 'hgamma']:\n",
    "        all=meanning(i,band)\n",
    "        row={\n",
    "            'file_ID' : all[0],\n",
    "            'pat_id' : all[1],\n",
    "            'sez_id' : all[2],\n",
    "            'band' : all[3],\n",
    "            'sez_length' : all[4],\n",
    "            'no_of_elec' : all[5],\n",
    "            'pre_mean' : all[6],\n",
    "            'pre_cv' : all[7]/all[6],\n",
    "            'sez_mean' : all[8],\n",
    "            'sez_cv' : all[9]/all[8],\n",
    "            'post_mean' : all[10],\n",
    "            'post_cv' : all[11]/all[10]\n",
    "        }\n",
    "        df = pd.concat([df, pd.DataFrame([row])], ignore_index=True)\n",
    "        "
   ]
  },
  {
   "cell_type": "code",
   "execution_count": 9,
   "metadata": {},
   "outputs": [],
   "source": [
    "df.to_json(\"../all_mean_Swiss-Short.json\", orient='records')"
   ]
  },
  {
   "cell_type": "code",
   "execution_count": 7,
   "metadata": {},
   "outputs": [],
   "source": [
    "# result = df.to_json(orient=\"records\")\n",
    "# parsed = json.loads(result)\n",
    "# with open(\"../all_mean_Swiss-Short.json\", \"w\") as write_file:\n",
    "#         json.dump(parsed, write_file, indent=4)"
   ]
  },
  {
   "cell_type": "code",
   "execution_count": null,
   "metadata": {},
   "outputs": [],
   "source": []
  }
 ],
 "metadata": {
  "kernelspec": {
   "display_name": "ampEN",
   "language": "python",
   "name": "python3"
  },
  "language_info": {
   "codemirror_mode": {
    "name": "ipython",
    "version": 3
   },
   "file_extension": ".py",
   "mimetype": "text/x-python",
   "name": "python",
   "nbconvert_exporter": "python",
   "pygments_lexer": "ipython3",
   "version": "3.11.4"
  },
  "orig_nbformat": 4
 },
 "nbformat": 4,
 "nbformat_minor": 2
}
