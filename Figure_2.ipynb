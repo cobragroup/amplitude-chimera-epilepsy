{
 "cells": [
  {
   "cell_type": "code",
   "execution_count": 1,
   "metadata": {},
   "outputs": [],
   "source": [
    "import pandas as pd\n",
    "import numpy as np"
   ]
  },
  {
   "cell_type": "code",
   "execution_count": 2,
   "metadata": {},
   "outputs": [],
   "source": [
    "import plotly.graph_objects as go\n",
    "import plotly.express as px\n",
    "from plotly.subplots import make_subplots"
   ]
  },
  {
   "cell_type": "code",
   "execution_count": 3,
   "metadata": {},
   "outputs": [
    {
     "data": {
      "text/html": [
       "<div>\n",
       "<style scoped>\n",
       "    .dataframe tbody tr th:only-of-type {\n",
       "        vertical-align: middle;\n",
       "    }\n",
       "\n",
       "    .dataframe tbody tr th {\n",
       "        vertical-align: top;\n",
       "    }\n",
       "\n",
       "    .dataframe thead th {\n",
       "        text-align: right;\n",
       "    }\n",
       "</style>\n",
       "<table border=\"1\" class=\"dataframe\">\n",
       "  <thead>\n",
       "    <tr style=\"text-align: right;\">\n",
       "      <th></th>\n",
       "      <th>file_ID</th>\n",
       "      <th>pat_id</th>\n",
       "      <th>sez_id</th>\n",
       "      <th>band</th>\n",
       "      <th>sez_length</th>\n",
       "      <th>no_of_elec</th>\n",
       "      <th>pre_mean</th>\n",
       "      <th>pre_cv</th>\n",
       "      <th>sez_mean</th>\n",
       "      <th>sez_cv</th>\n",
       "      <th>post_mean</th>\n",
       "      <th>post_cv</th>\n",
       "    </tr>\n",
       "  </thead>\n",
       "  <tbody>\n",
       "    <tr>\n",
       "      <th>0</th>\n",
       "      <td>p1s1</td>\n",
       "      <td>1</td>\n",
       "      <td>1</td>\n",
       "      <td>delta</td>\n",
       "      <td>125</td>\n",
       "      <td>47</td>\n",
       "      <td>3.270011</td>\n",
       "      <td>0.136050</td>\n",
       "      <td>4.095254</td>\n",
       "      <td>0.095119</td>\n",
       "      <td>3.741837</td>\n",
       "      <td>0.072901</td>\n",
       "    </tr>\n",
       "    <tr>\n",
       "      <th>1</th>\n",
       "      <td>p1s1</td>\n",
       "      <td>1</td>\n",
       "      <td>1</td>\n",
       "      <td>theta</td>\n",
       "      <td>125</td>\n",
       "      <td>47</td>\n",
       "      <td>2.484213</td>\n",
       "      <td>0.148351</td>\n",
       "      <td>2.799338</td>\n",
       "      <td>0.164442</td>\n",
       "      <td>2.670549</td>\n",
       "      <td>0.104244</td>\n",
       "    </tr>\n",
       "    <tr>\n",
       "      <th>2</th>\n",
       "      <td>p1s1</td>\n",
       "      <td>1</td>\n",
       "      <td>1</td>\n",
       "      <td>alpha</td>\n",
       "      <td>125</td>\n",
       "      <td>47</td>\n",
       "      <td>1.926940</td>\n",
       "      <td>0.161039</td>\n",
       "      <td>1.905720</td>\n",
       "      <td>0.204080</td>\n",
       "      <td>1.933093</td>\n",
       "      <td>0.163607</td>\n",
       "    </tr>\n",
       "    <tr>\n",
       "      <th>3</th>\n",
       "      <td>p1s1</td>\n",
       "      <td>1</td>\n",
       "      <td>1</td>\n",
       "      <td>beta</td>\n",
       "      <td>125</td>\n",
       "      <td>47</td>\n",
       "      <td>1.983676</td>\n",
       "      <td>0.120551</td>\n",
       "      <td>1.820028</td>\n",
       "      <td>0.216146</td>\n",
       "      <td>1.908682</td>\n",
       "      <td>0.129175</td>\n",
       "    </tr>\n",
       "    <tr>\n",
       "      <th>4</th>\n",
       "      <td>p1s1</td>\n",
       "      <td>1</td>\n",
       "      <td>1</td>\n",
       "      <td>lgamma</td>\n",
       "      <td>125</td>\n",
       "      <td>47</td>\n",
       "      <td>0.803513</td>\n",
       "      <td>0.242805</td>\n",
       "      <td>0.792638</td>\n",
       "      <td>0.693830</td>\n",
       "      <td>0.731817</td>\n",
       "      <td>0.279288</td>\n",
       "    </tr>\n",
       "  </tbody>\n",
       "</table>\n",
       "</div>"
      ],
      "text/plain": [
       "  file_ID  pat_id  sez_id    band  sez_length  no_of_elec  pre_mean    pre_cv  \\\n",
       "0    p1s1       1       1   delta         125          47  3.270011  0.136050   \n",
       "1    p1s1       1       1   theta         125          47  2.484213  0.148351   \n",
       "2    p1s1       1       1   alpha         125          47  1.926940  0.161039   \n",
       "3    p1s1       1       1    beta         125          47  1.983676  0.120551   \n",
       "4    p1s1       1       1  lgamma         125          47  0.803513  0.242805   \n",
       "\n",
       "   sez_mean    sez_cv  post_mean   post_cv  \n",
       "0  4.095254  0.095119   3.741837  0.072901  \n",
       "1  2.799338  0.164442   2.670549  0.104244  \n",
       "2  1.905720  0.204080   1.933093  0.163607  \n",
       "3  1.820028  0.216146   1.908682  0.129175  \n",
       "4  0.792638  0.693830   0.731817  0.279288  "
      ]
     },
     "execution_count": 3,
     "metadata": {},
     "output_type": "execute_result"
    }
   ],
   "source": [
    "data=pd.read_json(\"../all_mean_Swiss-Short.json\",orient=\"records\")\n",
    "data.head()"
   ]
  },
  {
   "cell_type": "code",
   "execution_count": 4,
   "metadata": {},
   "outputs": [],
   "source": [
    "custom_nanstd = lambda data: np.nanstd(data, ddof=1) if np.count_nonzero(~np.isnan(data)) > 1 else(\n",
    "    np.unique(data * (~np.isnan(data)))[0] if np.count_nonzero(~np.isnan(data)) == 1 else np.nan\n",
    ")"
   ]
  },
  {
   "cell_type": "code",
   "execution_count": 5,
   "metadata": {},
   "outputs": [
    {
     "data": {
      "text/html": [
       "<div>\n",
       "<style scoped>\n",
       "    .dataframe tbody tr th:only-of-type {\n",
       "        vertical-align: middle;\n",
       "    }\n",
       "\n",
       "    .dataframe tbody tr th {\n",
       "        vertical-align: top;\n",
       "    }\n",
       "\n",
       "    .dataframe thead th {\n",
       "        text-align: right;\n",
       "    }\n",
       "</style>\n",
       "<table border=\"1\" class=\"dataframe\">\n",
       "  <thead>\n",
       "    <tr style=\"text-align: right;\">\n",
       "      <th></th>\n",
       "      <th>band</th>\n",
       "      <th>pat_id</th>\n",
       "      <th>pre_mean</th>\n",
       "      <th>pre_cv</th>\n",
       "      <th>sez_mean</th>\n",
       "      <th>sez_cv</th>\n",
       "      <th>post_mean</th>\n",
       "      <th>post_cv</th>\n",
       "      <th>sezs</th>\n",
       "      <th>sez_length</th>\n",
       "      <th>no_of_elec</th>\n",
       "      <th>no_of_sez</th>\n",
       "    </tr>\n",
       "  </thead>\n",
       "  <tbody>\n",
       "    <tr>\n",
       "      <th>0</th>\n",
       "      <td>alpha</td>\n",
       "      <td>1</td>\n",
       "      <td>1.800235</td>\n",
       "      <td>0.040728</td>\n",
       "      <td>1.862464</td>\n",
       "      <td>0.064040</td>\n",
       "      <td>1.729868</td>\n",
       "      <td>0.063876</td>\n",
       "      <td>[p1s1, p1s2, p1s3, p1s4, p1s5, p1s6, p1s7, p1s...</td>\n",
       "      <td>71.076923</td>\n",
       "      <td>[47]</td>\n",
       "      <td>13</td>\n",
       "    </tr>\n",
       "    <tr>\n",
       "      <th>1</th>\n",
       "      <td>alpha</td>\n",
       "      <td>2</td>\n",
       "      <td>1.411227</td>\n",
       "      <td>0.055227</td>\n",
       "      <td>2.570000</td>\n",
       "      <td>0.088385</td>\n",
       "      <td>0.662849</td>\n",
       "      <td>0.169988</td>\n",
       "      <td>[p2s1, p2s2, p2s3, p2s4]</td>\n",
       "      <td>223.250000</td>\n",
       "      <td>[42]</td>\n",
       "      <td>4</td>\n",
       "    </tr>\n",
       "    <tr>\n",
       "      <th>2</th>\n",
       "      <td>alpha</td>\n",
       "      <td>3</td>\n",
       "      <td>1.514411</td>\n",
       "      <td>0.025800</td>\n",
       "      <td>3.273700</td>\n",
       "      <td>0.078552</td>\n",
       "      <td>0.790268</td>\n",
       "      <td>0.016501</td>\n",
       "      <td>[p3s1, p3s2]</td>\n",
       "      <td>99.000000</td>\n",
       "      <td>[98]</td>\n",
       "      <td>2</td>\n",
       "    </tr>\n",
       "    <tr>\n",
       "      <th>3</th>\n",
       "      <td>alpha</td>\n",
       "      <td>4</td>\n",
       "      <td>2.350336</td>\n",
       "      <td>0.087058</td>\n",
       "      <td>1.945237</td>\n",
       "      <td>0.084471</td>\n",
       "      <td>2.296282</td>\n",
       "      <td>0.083568</td>\n",
       "      <td>[p4s1, p4s2, p4s3, p4s4, p4s5, p4s6, p4s7, p4s...</td>\n",
       "      <td>97.571429</td>\n",
       "      <td>[62]</td>\n",
       "      <td>14</td>\n",
       "    </tr>\n",
       "    <tr>\n",
       "      <th>4</th>\n",
       "      <td>alpha</td>\n",
       "      <td>5</td>\n",
       "      <td>1.418611</td>\n",
       "      <td>0.016419</td>\n",
       "      <td>1.935390</td>\n",
       "      <td>0.045092</td>\n",
       "      <td>1.445931</td>\n",
       "      <td>0.009804</td>\n",
       "      <td>[p5s1, p5s2, p5s3, p5s4, p5s5, p5s6, p5s7, p5s...</td>\n",
       "      <td>98.500000</td>\n",
       "      <td>[54]</td>\n",
       "      <td>10</td>\n",
       "    </tr>\n",
       "  </tbody>\n",
       "</table>\n",
       "</div>"
      ],
      "text/plain": [
       "    band  pat_id  pre_mean    pre_cv  sez_mean    sez_cv  post_mean   post_cv  \\\n",
       "0  alpha       1  1.800235  0.040728  1.862464  0.064040   1.729868  0.063876   \n",
       "1  alpha       2  1.411227  0.055227  2.570000  0.088385   0.662849  0.169988   \n",
       "2  alpha       3  1.514411  0.025800  3.273700  0.078552   0.790268  0.016501   \n",
       "3  alpha       4  2.350336  0.087058  1.945237  0.084471   2.296282  0.083568   \n",
       "4  alpha       5  1.418611  0.016419  1.935390  0.045092   1.445931  0.009804   \n",
       "\n",
       "                                                sezs  sez_length no_of_elec  \\\n",
       "0  [p1s1, p1s2, p1s3, p1s4, p1s5, p1s6, p1s7, p1s...   71.076923       [47]   \n",
       "1                           [p2s1, p2s2, p2s3, p2s4]  223.250000       [42]   \n",
       "2                                       [p3s1, p3s2]   99.000000       [98]   \n",
       "3  [p4s1, p4s2, p4s3, p4s4, p4s5, p4s6, p4s7, p4s...   97.571429       [62]   \n",
       "4  [p5s1, p5s2, p5s3, p5s4, p5s5, p5s6, p5s7, p5s...   98.500000       [54]   \n",
       "\n",
       "   no_of_sez  \n",
       "0         13  \n",
       "1          4  \n",
       "2          2  \n",
       "3         14  \n",
       "4         10  "
      ]
     },
     "execution_count": 5,
     "metadata": {},
     "output_type": "execute_result"
    }
   ],
   "source": [
    "pat_grouped_data = data.groupby(['band','pat_id']).agg(\n",
    "    pre_mean=('pre_mean', 'mean'),\n",
    "    pre_cv=('pre_cv', lambda x: custom_nanstd(x)),\n",
    "    sez_mean=('sez_mean', 'mean'),\n",
    "    sez_cv=('sez_cv', lambda x: custom_nanstd(x)),\n",
    "    post_mean=('post_mean', 'mean'),\n",
    "    post_cv=('post_cv', lambda x: custom_nanstd(x)),\n",
    "    sezs=('file_ID', 'unique'),\n",
    "    sez_length=('sez_length', 'mean'),\n",
    "    no_of_elec=('no_of_elec','unique'),\n",
    "    no_of_sez=('sez_id', 'count')\n",
    "    )\n",
    "pat_grouped_data = pat_grouped_data.reset_index()  \n",
    "pat_grouped_data.head()"
   ]
  },
  {
   "cell_type": "code",
   "execution_count": 6,
   "metadata": {},
   "outputs": [
    {
     "data": {
      "text/html": [
       "<div>\n",
       "<style scoped>\n",
       "    .dataframe tbody tr th:only-of-type {\n",
       "        vertical-align: middle;\n",
       "    }\n",
       "\n",
       "    .dataframe tbody tr th {\n",
       "        vertical-align: top;\n",
       "    }\n",
       "\n",
       "    .dataframe thead th {\n",
       "        text-align: right;\n",
       "    }\n",
       "</style>\n",
       "<table border=\"1\" class=\"dataframe\">\n",
       "  <thead>\n",
       "    <tr style=\"text-align: right;\">\n",
       "      <th></th>\n",
       "      <th>band</th>\n",
       "      <th>pre_mean</th>\n",
       "      <th>pre_cv</th>\n",
       "      <th>sez_mean</th>\n",
       "      <th>sez_cv</th>\n",
       "      <th>post_mean</th>\n",
       "      <th>post_cv</th>\n",
       "      <th>no_of_pats</th>\n",
       "    </tr>\n",
       "  </thead>\n",
       "  <tbody>\n",
       "    <tr>\n",
       "      <th>0</th>\n",
       "      <td>alpha</td>\n",
       "      <td>1.611853</td>\n",
       "      <td>0.022758</td>\n",
       "      <td>2.403951</td>\n",
       "      <td>0.034503</td>\n",
       "      <td>1.307114</td>\n",
       "      <td>0.163595</td>\n",
       "      <td>16</td>\n",
       "    </tr>\n",
       "    <tr>\n",
       "      <th>1</th>\n",
       "      <td>beta</td>\n",
       "      <td>1.675046</td>\n",
       "      <td>0.020895</td>\n",
       "      <td>2.485724</td>\n",
       "      <td>0.023995</td>\n",
       "      <td>1.232187</td>\n",
       "      <td>0.207746</td>\n",
       "      <td>16</td>\n",
       "    </tr>\n",
       "    <tr>\n",
       "      <th>2</th>\n",
       "      <td>delta</td>\n",
       "      <td>2.864191</td>\n",
       "      <td>0.022369</td>\n",
       "      <td>3.533913</td>\n",
       "      <td>0.019890</td>\n",
       "      <td>3.268874</td>\n",
       "      <td>0.035079</td>\n",
       "      <td>16</td>\n",
       "    </tr>\n",
       "    <tr>\n",
       "      <th>3</th>\n",
       "      <td>hgamma</td>\n",
       "      <td>0.052867</td>\n",
       "      <td>0.911383</td>\n",
       "      <td>0.292305</td>\n",
       "      <td>0.588536</td>\n",
       "      <td>0.073173</td>\n",
       "      <td>1.050253</td>\n",
       "      <td>16</td>\n",
       "    </tr>\n",
       "    <tr>\n",
       "      <th>4</th>\n",
       "      <td>lgamma</td>\n",
       "      <td>0.539356</td>\n",
       "      <td>0.061809</td>\n",
       "      <td>1.099668</td>\n",
       "      <td>0.064668</td>\n",
       "      <td>0.384157</td>\n",
       "      <td>0.475253</td>\n",
       "      <td>16</td>\n",
       "    </tr>\n",
       "    <tr>\n",
       "      <th>5</th>\n",
       "      <td>theta</td>\n",
       "      <td>2.116420</td>\n",
       "      <td>0.023048</td>\n",
       "      <td>2.940845</td>\n",
       "      <td>0.028241</td>\n",
       "      <td>1.947055</td>\n",
       "      <td>0.085602</td>\n",
       "      <td>16</td>\n",
       "    </tr>\n",
       "  </tbody>\n",
       "</table>\n",
       "</div>"
      ],
      "text/plain": [
       "     band  pre_mean    pre_cv  sez_mean    sez_cv  post_mean   post_cv  \\\n",
       "0   alpha  1.611853  0.022758  2.403951  0.034503   1.307114  0.163595   \n",
       "1    beta  1.675046  0.020895  2.485724  0.023995   1.232187  0.207746   \n",
       "2   delta  2.864191  0.022369  3.533913  0.019890   3.268874  0.035079   \n",
       "3  hgamma  0.052867  0.911383  0.292305  0.588536   0.073173  1.050253   \n",
       "4  lgamma  0.539356  0.061809  1.099668  0.064668   0.384157  0.475253   \n",
       "5   theta  2.116420  0.023048  2.940845  0.028241   1.947055  0.085602   \n",
       "\n",
       "   no_of_pats  \n",
       "0          16  \n",
       "1          16  \n",
       "2          16  \n",
       "3          16  \n",
       "4          16  \n",
       "5          16  "
      ]
     },
     "execution_count": 6,
     "metadata": {},
     "output_type": "execute_result"
    }
   ],
   "source": [
    "band_grouped_data = pat_grouped_data.groupby(['band']).agg(\n",
    "    pre_mean=('pre_mean', 'mean'),\n",
    "    pre_cv=('pre_cv', lambda x: custom_nanstd(x)),\n",
    "    sez_mean=('sez_mean', 'mean'),\n",
    "    sez_cv=('sez_cv', lambda x: custom_nanstd(x)),\n",
    "    post_mean=('post_mean', 'mean'),\n",
    "    post_cv=('post_cv', lambda x: custom_nanstd(x)),\n",
    "    no_of_pats=('pat_id', 'count'),\n",
    "    )\n",
    "band_grouped_data = band_grouped_data.reset_index()  \n",
    "band_grouped_data"
   ]
  },
  {
   "cell_type": "code",
   "execution_count": 7,
   "metadata": {},
   "outputs": [
    {
     "data": {
      "text/html": [
       "<div>\n",
       "<style scoped>\n",
       "    .dataframe tbody tr th:only-of-type {\n",
       "        vertical-align: middle;\n",
       "    }\n",
       "\n",
       "    .dataframe tbody tr th {\n",
       "        vertical-align: top;\n",
       "    }\n",
       "\n",
       "    .dataframe thead th {\n",
       "        text-align: right;\n",
       "    }\n",
       "</style>\n",
       "<table border=\"1\" class=\"dataframe\">\n",
       "  <thead>\n",
       "    <tr style=\"text-align: right;\">\n",
       "      <th></th>\n",
       "      <th>name</th>\n",
       "      <th>sym</th>\n",
       "      <th>color</th>\n",
       "    </tr>\n",
       "  </thead>\n",
       "  <tbody>\n",
       "    <tr>\n",
       "      <th>0</th>\n",
       "      <td>delta</td>\n",
       "      <td>δ</td>\n",
       "      <td>rgba(139,0,0,0.5)</td>\n",
       "    </tr>\n",
       "    <tr>\n",
       "      <th>1</th>\n",
       "      <td>theta</td>\n",
       "      <td>θ</td>\n",
       "      <td>rgba(255,69,0,0.5)</td>\n",
       "    </tr>\n",
       "    <tr>\n",
       "      <th>2</th>\n",
       "      <td>alpha</td>\n",
       "      <td>α</td>\n",
       "      <td>rgba(0,205,0,0.5)</td>\n",
       "    </tr>\n",
       "    <tr>\n",
       "      <th>3</th>\n",
       "      <td>beta</td>\n",
       "      <td>β</td>\n",
       "      <td>rgba(0,206,209,0.5)</td>\n",
       "    </tr>\n",
       "    <tr>\n",
       "      <th>4</th>\n",
       "      <td>lgamma</td>\n",
       "      <td>Lγ</td>\n",
       "      <td>rgba(105,89,205,0.5)</td>\n",
       "    </tr>\n",
       "    <tr>\n",
       "      <th>5</th>\n",
       "      <td>hgamma</td>\n",
       "      <td>Hγ</td>\n",
       "      <td>rgba(238,122,233,0.5)</td>\n",
       "    </tr>\n",
       "  </tbody>\n",
       "</table>\n",
       "</div>"
      ],
      "text/plain": [
       "     name sym                  color\n",
       "0   delta   δ      rgba(139,0,0,0.5)\n",
       "1   theta   θ     rgba(255,69,0,0.5)\n",
       "2   alpha   α      rgba(0,205,0,0.5)\n",
       "3    beta   β    rgba(0,206,209,0.5)\n",
       "4  lgamma  Lγ   rgba(105,89,205,0.5)\n",
       "5  hgamma  Hγ  rgba(238,122,233,0.5)"
      ]
     },
     "execution_count": 7,
     "metadata": {},
     "output_type": "execute_result"
    }
   ],
   "source": [
    "bandds=pd.DataFrame({'name':['delta','theta','alpha','beta','lgamma','hgamma'], \n",
    "             'sym':[\"δ\",\"θ\",\"α\",\"β\",\"Lγ\",\"Hγ\"],\n",
    "             'color':[\"rgba(139,0,0,0.5)\",\"rgba(255,69,0,0.5)\",\"rgba(0,205,0,0.5)\",\"rgba(0,206,209,0.5)\",\"rgba(105,89,205,0.5)\",\"rgba(238,122,233,0.5)\"]})\n",
    "\n",
    "bandds"
   ]
  },
  {
   "cell_type": "code",
   "execution_count": 8,
   "metadata": {},
   "outputs": [],
   "source": [
    "def mappi(fig,bd,ridx,cidx,p1,p2,p3):\n",
    "    x_coords = [0, 1, 2]\n",
    "    means=band_grouped_data.query('band==\"'+bd+'\"')[['pre_mean','sez_mean','post_mean']].iloc[0].values\n",
    "    #sems=band_grouped_data.query('band==\"'+bd+'\"')[['pre_cv','sez_cv','post_cv']].iloc[0].values\n",
    "    \n",
    "    fig.add_trace(go.Scatter(x=x_coords,y=means,mode='lines+markers',\n",
    "                             #error_y=dict(type='data', array=sems,color='rgba(0,0,0,0.5)', thickness=1.5, width=10),\n",
    "                             name=bandds[bandds.name==bd].sym.values[0],\n",
    "                             marker=dict(color=bandds[bandds.name==bd].color.values[0],size=10),\n",
    "                             line=dict(color=bandds[bandds.name==bd].color.values[0],width=3)\n",
    "                             ),row=ridx, col=cidx)\n",
    "    fig.update_xaxes(tickvals=x_coords,ticktext=[\"pre\", \"seizure\", \"post\"],row=ridx, col=cidx)\n",
    "        \n",
    "    p_value_brackets = [\n",
    "            {'x_coords': [0,0,0.99,0.99],\n",
    "            'y_coords': [means[0]  +0.05, means[1] + +0.1 ,\n",
    "                        means[1]  +0.1 , means[1] + 0.05 ],\n",
    "            'label': p1},\n",
    "            {'x_coords': [1.01,1.01,2,2],\n",
    "            'y_coords': [means[1] +  0.05, means[1]  + 0.1,\n",
    "                        means[1] +  0.1, means[2]  + 0.05],\n",
    "            'label': p2},\n",
    "            {'x_coords': [0,0,2,2],\n",
    "            'y_coords': [means[1]  + 0.15, means[1]  +0.25,\n",
    "                        means[1]  + 0.25, means[1]  + 0.15 ],\n",
    "            'label': p3}\n",
    "            ] \n",
    "    if (ridx*cidx!=6):\n",
    "        # Add p-value brackets and labels\n",
    "        for bracket in p_value_brackets:\n",
    "            for i in range(1, len(bracket['x_coords'])):\n",
    "                fig.add_shape(dict(type=\"line\", xref=\"x\", yref=\"y\",\n",
    "                    x0=bracket['x_coords'][i - 1],x1=bracket['x_coords'][i],\n",
    "                    y0=bracket['y_coords'][i - 1],y1=bracket['y_coords'][i]),\n",
    "                    line=dict(color='rgba(0,0,0,1)', width=1.5),\n",
    "                    row=ridx, col=cidx)\n",
    "            fig.add_annotation(dict(\n",
    "                text=bracket['label'],name=\"p-value\",xref=\"x\", \n",
    "                x=(bracket['x_coords'][0] + bracket['x_coords'][2]) / 2,\n",
    "                y=bracket['y_coords'][1]+0.08,\n",
    "                showarrow=False),\n",
    "                font=dict(size=30, color=\"blue\",family=\"Times new Roman\"),\n",
    "                row=ridx, col=cidx)\n",
    "    return fig"
   ]
  },
  {
   "cell_type": "code",
   "execution_count": 10,
   "metadata": {},
   "outputs": [
    {
     "data": {
      "application/vnd.plotly.v1+json": {
       "config": {
        "plotlyServerURL": "https://plot.ly"
       },
       "data": [
        {
         "line": {
          "color": "rgba(139,0,0,0.5)",
          "width": 3
         },
         "marker": {
          "color": "rgba(139,0,0,0.5)",
          "size": 10
         },
         "mode": "lines+markers",
         "name": "δ",
         "type": "scatter",
         "x": [
          0,
          1,
          2
         ],
         "xaxis": "x",
         "y": [
          2.8641910869731015,
          3.5339128443599894,
          3.26887391545253
         ],
         "yaxis": "y"
        },
        {
         "line": {
          "color": "rgba(255,69,0,0.5)",
          "width": 3
         },
         "marker": {
          "color": "rgba(255,69,0,0.5)",
          "size": 10
         },
         "mode": "lines+markers",
         "name": "θ",
         "type": "scatter",
         "x": [
          0,
          1,
          2
         ],
         "xaxis": "x2",
         "y": [
          2.1164201631181943,
          2.9408448499832347,
          1.9470551700653258
         ],
         "yaxis": "y2"
        },
        {
         "line": {
          "color": "rgba(0,205,0,0.5)",
          "width": 3
         },
         "marker": {
          "color": "rgba(0,205,0,0.5)",
          "size": 10
         },
         "mode": "lines+markers",
         "name": "α",
         "type": "scatter",
         "x": [
          0,
          1,
          2
         ],
         "xaxis": "x3",
         "y": [
          1.6118532233785672,
          2.4039508062307196,
          1.3071136491363935
         ],
         "yaxis": "y3"
        },
        {
         "line": {
          "color": "rgba(0,206,209,0.5)",
          "width": 3
         },
         "marker": {
          "color": "rgba(0,206,209,0.5)",
          "size": 10
         },
         "mode": "lines+markers",
         "name": "β",
         "type": "scatter",
         "x": [
          0,
          1,
          2
         ],
         "xaxis": "x4",
         "y": [
          1.6750458502052807,
          2.4857239737775987,
          1.2321871213697073
         ],
         "yaxis": "y4"
        },
        {
         "line": {
          "color": "rgba(105,89,205,0.5)",
          "width": 3
         },
         "marker": {
          "color": "rgba(105,89,205,0.5)",
          "size": 10
         },
         "mode": "lines+markers",
         "name": "Lγ",
         "type": "scatter",
         "x": [
          0,
          1,
          2
         ],
         "xaxis": "x5",
         "y": [
          0.5393559742029839,
          1.0996682431874958,
          0.38415744470172847
         ],
         "yaxis": "y5"
        },
        {
         "line": {
          "color": "rgba(238,122,233,0.5)",
          "width": 3
         },
         "marker": {
          "color": "rgba(238,122,233,0.5)",
          "size": 10
         },
         "mode": "lines+markers",
         "name": "Hγ",
         "type": "scatter",
         "x": [
          0,
          1,
          2
         ],
         "xaxis": "x6",
         "y": [
          0.052866765507377136,
          0.29230458074869886,
          0.07317278153566048
         ],
         "yaxis": "y6"
        }
       ],
       "layout": {
        "annotations": [
         {
          "font": {
           "family": "Times new Roman",
           "size": 30
          },
          "showarrow": false,
          "text": "Delta (δ) Band",
          "x": 0.2425,
          "xanchor": "center",
          "xref": "paper",
          "y": 1,
          "yanchor": "bottom",
          "yref": "paper"
         },
         {
          "font": {
           "family": "Times new Roman",
           "size": 30
          },
          "showarrow": false,
          "text": "Theta (θ) Band",
          "x": 0.7575000000000001,
          "xanchor": "center",
          "xref": "paper",
          "y": 1,
          "yanchor": "bottom",
          "yref": "paper"
         },
         {
          "font": {
           "family": "Times new Roman",
           "size": 30
          },
          "showarrow": false,
          "text": "Alpha (α) Band",
          "x": 0.2425,
          "xanchor": "center",
          "xref": "paper",
          "y": 0.6499999999999999,
          "yanchor": "bottom",
          "yref": "paper"
         },
         {
          "font": {
           "family": "Times new Roman",
           "size": 30
          },
          "showarrow": false,
          "text": "Beta (β) Band",
          "x": 0.7575000000000001,
          "xanchor": "center",
          "xref": "paper",
          "y": 0.6499999999999999,
          "yanchor": "bottom",
          "yref": "paper"
         },
         {
          "font": {
           "family": "Times new Roman",
           "size": 30
          },
          "showarrow": false,
          "text": "Lgamma (Lγ) Band",
          "x": 0.2425,
          "xanchor": "center",
          "xref": "paper",
          "y": 0.3,
          "yanchor": "bottom",
          "yref": "paper"
         },
         {
          "font": {
           "family": "Times new Roman",
           "size": 30
          },
          "showarrow": false,
          "text": "Hgamma (Hγ) Band",
          "x": 0.7575000000000001,
          "xanchor": "center",
          "xref": "paper",
          "y": 0.3,
          "yanchor": "bottom",
          "yref": "paper"
         },
         {
          "font": {
           "color": "blue",
           "family": "Times new Roman",
           "size": 30
          },
          "name": "p-value",
          "showarrow": false,
          "text": "<0.001",
          "x": 0.495,
          "xref": "x",
          "y": 3.7139128443599896,
          "yref": "y"
         },
         {
          "font": {
           "color": "blue",
           "family": "Times new Roman",
           "size": 30
          },
          "name": "p-value",
          "showarrow": false,
          "text": "ns",
          "x": 1.505,
          "xref": "x",
          "y": 3.7139128443599896,
          "yref": "y"
         },
         {
          "font": {
           "color": "blue",
           "family": "Times new Roman",
           "size": 30
          },
          "name": "p-value",
          "showarrow": false,
          "text": "<0.001",
          "x": 1,
          "xref": "x",
          "y": 3.8639128443599895,
          "yref": "y"
         },
         {
          "font": {
           "color": "blue",
           "family": "Times new Roman",
           "size": 30
          },
          "name": "p-value",
          "showarrow": false,
          "text": "<0.001",
          "x": 0.495,
          "xref": "x2",
          "y": 3.120844849983235,
          "yref": "y2"
         },
         {
          "font": {
           "color": "blue",
           "family": "Times new Roman",
           "size": 30
          },
          "name": "p-value",
          "showarrow": false,
          "text": "<0.001",
          "x": 1.505,
          "xref": "x2",
          "y": 3.120844849983235,
          "yref": "y2"
         },
         {
          "font": {
           "color": "blue",
           "family": "Times new Roman",
           "size": 30
          },
          "name": "p-value",
          "showarrow": false,
          "text": "ns",
          "x": 1,
          "xref": "x2",
          "y": 3.2708448499832348,
          "yref": "y2"
         },
         {
          "font": {
           "color": "blue",
           "family": "Times new Roman",
           "size": 30
          },
          "name": "p-value",
          "showarrow": false,
          "text": "<0.001",
          "x": 0.495,
          "xref": "x3",
          "y": 2.5839508062307197,
          "yref": "y3"
         },
         {
          "font": {
           "color": "blue",
           "family": "Times new Roman",
           "size": 30
          },
          "name": "p-value",
          "showarrow": false,
          "text": "<0.001",
          "x": 1.505,
          "xref": "x3",
          "y": 2.5839508062307197,
          "yref": "y3"
         },
         {
          "font": {
           "color": "blue",
           "family": "Times new Roman",
           "size": 30
          },
          "name": "p-value",
          "showarrow": false,
          "text": "ns",
          "x": 1,
          "xref": "x3",
          "y": 2.7339508062307196,
          "yref": "y3"
         },
         {
          "font": {
           "color": "blue",
           "family": "Times new Roman",
           "size": 30
          },
          "name": "p-value",
          "showarrow": false,
          "text": "<0.001",
          "x": 0.495,
          "xref": "x4",
          "y": 2.665723973777599,
          "yref": "y4"
         },
         {
          "font": {
           "color": "blue",
           "family": "Times new Roman",
           "size": 30
          },
          "name": "p-value",
          "showarrow": false,
          "text": "<0.001",
          "x": 1.505,
          "xref": "x4",
          "y": 2.665723973777599,
          "yref": "y4"
         },
         {
          "font": {
           "color": "blue",
           "family": "Times new Roman",
           "size": 30
          },
          "name": "p-value",
          "showarrow": false,
          "text": "<0.001",
          "x": 1,
          "xref": "x4",
          "y": 2.8157239737775988,
          "yref": "y4"
         },
         {
          "font": {
           "color": "blue",
           "family": "Times new Roman",
           "size": 30
          },
          "name": "p-value",
          "showarrow": false,
          "text": "<0.001",
          "x": 0.495,
          "xref": "x5",
          "y": 1.279668243187496,
          "yref": "y5"
         },
         {
          "font": {
           "color": "blue",
           "family": "Times new Roman",
           "size": 30
          },
          "name": "p-value",
          "showarrow": false,
          "text": "<0.001",
          "x": 1.505,
          "xref": "x5",
          "y": 1.279668243187496,
          "yref": "y5"
         },
         {
          "font": {
           "color": "blue",
           "family": "Times new Roman",
           "size": 30
          },
          "name": "p-value",
          "showarrow": false,
          "text": "ns",
          "x": 1,
          "xref": "x5",
          "y": 1.4296682431874959,
          "yref": "y5"
         },
         {
          "font": {
           "color": "blue",
           "family": "Times new Roman",
           "size": 30
          },
          "name": "p-value",
          "showarrow": false,
          "text": "<0.001",
          "x": 0.495,
          "xref": "x6",
          "y": 0.36230458074869887,
          "yref": "y6"
         },
         {
          "font": {
           "color": "blue",
           "family": "Times new Roman",
           "size": 30
          },
          "name": "p-value",
          "showarrow": false,
          "text": "<0.001",
          "x": 1.505,
          "xref": "x6",
          "y": 0.36230458074869887,
          "yref": "y6"
         },
         {
          "font": {
           "color": "blue",
           "family": "Times new Roman",
           "size": 30
          },
          "name": "p-value",
          "showarrow": false,
          "text": "0.371",
          "x": 1,
          "xref": "x6",
          "y": 0.4323045807486988,
          "yref": "y6"
         }
        ],
        "font": {
         "color": "black",
         "family": "Times new Roman",
         "size": 30
        },
        "height": 1200,
        "legend": {
         "font": {
          "size": 40
         },
         "orientation": "h",
         "x": 0.5,
         "xanchor": "center",
         "y": 1.02,
         "yanchor": "bottom"
        },
        "shapes": [
         {
          "line": {
           "color": "rgba(0,0,0,1)",
           "width": 1.5
          },
          "type": "line",
          "x0": 0,
          "x1": 0,
          "xref": "x",
          "y0": 2.9141910869731014,
          "y1": 3.6339128443599895,
          "yref": "y"
         },
         {
          "line": {
           "color": "rgba(0,0,0,1)",
           "width": 1.5
          },
          "type": "line",
          "x0": 0,
          "x1": 0.99,
          "xref": "x",
          "y0": 3.6339128443599895,
          "y1": 3.6339128443599895,
          "yref": "y"
         },
         {
          "line": {
           "color": "rgba(0,0,0,1)",
           "width": 1.5
          },
          "type": "line",
          "x0": 0.99,
          "x1": 0.99,
          "xref": "x",
          "y0": 3.6339128443599895,
          "y1": 3.5839128443599892,
          "yref": "y"
         },
         {
          "line": {
           "color": "rgba(0,0,0,1)",
           "width": 1.5
          },
          "type": "line",
          "x0": 1.01,
          "x1": 1.01,
          "xref": "x",
          "y0": 3.5839128443599892,
          "y1": 3.6339128443599895,
          "yref": "y"
         },
         {
          "line": {
           "color": "rgba(0,0,0,1)",
           "width": 1.5
          },
          "type": "line",
          "x0": 1.01,
          "x1": 2,
          "xref": "x",
          "y0": 3.6339128443599895,
          "y1": 3.6339128443599895,
          "yref": "y"
         },
         {
          "line": {
           "color": "rgba(0,0,0,1)",
           "width": 1.5
          },
          "type": "line",
          "x0": 2,
          "x1": 2,
          "xref": "x",
          "y0": 3.6339128443599895,
          "y1": 3.3188739154525297,
          "yref": "y"
         },
         {
          "line": {
           "color": "rgba(0,0,0,1)",
           "width": 1.5
          },
          "type": "line",
          "x0": 0,
          "x1": 0,
          "xref": "x",
          "y0": 3.6839128443599893,
          "y1": 3.7839128443599894,
          "yref": "y"
         },
         {
          "line": {
           "color": "rgba(0,0,0,1)",
           "width": 1.5
          },
          "type": "line",
          "x0": 0,
          "x1": 2,
          "xref": "x",
          "y0": 3.7839128443599894,
          "y1": 3.7839128443599894,
          "yref": "y"
         },
         {
          "line": {
           "color": "rgba(0,0,0,1)",
           "width": 1.5
          },
          "type": "line",
          "x0": 2,
          "x1": 2,
          "xref": "x",
          "y0": 3.7839128443599894,
          "y1": 3.6839128443599893,
          "yref": "y"
         },
         {
          "line": {
           "color": "rgba(0,0,0,1)",
           "width": 1.5
          },
          "type": "line",
          "x0": 0,
          "x1": 0,
          "xref": "x2",
          "y0": 2.166420163118194,
          "y1": 3.040844849983235,
          "yref": "y2"
         },
         {
          "line": {
           "color": "rgba(0,0,0,1)",
           "width": 1.5
          },
          "type": "line",
          "x0": 0,
          "x1": 0.99,
          "xref": "x2",
          "y0": 3.040844849983235,
          "y1": 3.040844849983235,
          "yref": "y2"
         },
         {
          "line": {
           "color": "rgba(0,0,0,1)",
           "width": 1.5
          },
          "type": "line",
          "x0": 0.99,
          "x1": 0.99,
          "xref": "x2",
          "y0": 3.040844849983235,
          "y1": 2.9908448499832345,
          "yref": "y2"
         },
         {
          "line": {
           "color": "rgba(0,0,0,1)",
           "width": 1.5
          },
          "type": "line",
          "x0": 1.01,
          "x1": 1.01,
          "xref": "x2",
          "y0": 2.9908448499832345,
          "y1": 3.040844849983235,
          "yref": "y2"
         },
         {
          "line": {
           "color": "rgba(0,0,0,1)",
           "width": 1.5
          },
          "type": "line",
          "x0": 1.01,
          "x1": 2,
          "xref": "x2",
          "y0": 3.040844849983235,
          "y1": 3.040844849983235,
          "yref": "y2"
         },
         {
          "line": {
           "color": "rgba(0,0,0,1)",
           "width": 1.5
          },
          "type": "line",
          "x0": 2,
          "x1": 2,
          "xref": "x2",
          "y0": 3.040844849983235,
          "y1": 1.9970551700653258,
          "yref": "y2"
         },
         {
          "line": {
           "color": "rgba(0,0,0,1)",
           "width": 1.5
          },
          "type": "line",
          "x0": 0,
          "x1": 0,
          "xref": "x2",
          "y0": 3.0908448499832346,
          "y1": 3.1908448499832347,
          "yref": "y2"
         },
         {
          "line": {
           "color": "rgba(0,0,0,1)",
           "width": 1.5
          },
          "type": "line",
          "x0": 0,
          "x1": 2,
          "xref": "x2",
          "y0": 3.1908448499832347,
          "y1": 3.1908448499832347,
          "yref": "y2"
         },
         {
          "line": {
           "color": "rgba(0,0,0,1)",
           "width": 1.5
          },
          "type": "line",
          "x0": 2,
          "x1": 2,
          "xref": "x2",
          "y0": 3.1908448499832347,
          "y1": 3.0908448499832346,
          "yref": "y2"
         },
         {
          "line": {
           "color": "rgba(0,0,0,1)",
           "width": 1.5
          },
          "type": "line",
          "x0": 0,
          "x1": 0,
          "xref": "x3",
          "y0": 1.6618532233785672,
          "y1": 2.5039508062307196,
          "yref": "y3"
         },
         {
          "line": {
           "color": "rgba(0,0,0,1)",
           "width": 1.5
          },
          "type": "line",
          "x0": 0,
          "x1": 0.99,
          "xref": "x3",
          "y0": 2.5039508062307196,
          "y1": 2.5039508062307196,
          "yref": "y3"
         },
         {
          "line": {
           "color": "rgba(0,0,0,1)",
           "width": 1.5
          },
          "type": "line",
          "x0": 0.99,
          "x1": 0.99,
          "xref": "x3",
          "y0": 2.5039508062307196,
          "y1": 2.4539508062307194,
          "yref": "y3"
         },
         {
          "line": {
           "color": "rgba(0,0,0,1)",
           "width": 1.5
          },
          "type": "line",
          "x0": 1.01,
          "x1": 1.01,
          "xref": "x3",
          "y0": 2.4539508062307194,
          "y1": 2.5039508062307196,
          "yref": "y3"
         },
         {
          "line": {
           "color": "rgba(0,0,0,1)",
           "width": 1.5
          },
          "type": "line",
          "x0": 1.01,
          "x1": 2,
          "xref": "x3",
          "y0": 2.5039508062307196,
          "y1": 2.5039508062307196,
          "yref": "y3"
         },
         {
          "line": {
           "color": "rgba(0,0,0,1)",
           "width": 1.5
          },
          "type": "line",
          "x0": 2,
          "x1": 2,
          "xref": "x3",
          "y0": 2.5039508062307196,
          "y1": 1.3571136491363935,
          "yref": "y3"
         },
         {
          "line": {
           "color": "rgba(0,0,0,1)",
           "width": 1.5
          },
          "type": "line",
          "x0": 0,
          "x1": 0,
          "xref": "x3",
          "y0": 2.5539508062307195,
          "y1": 2.6539508062307196,
          "yref": "y3"
         },
         {
          "line": {
           "color": "rgba(0,0,0,1)",
           "width": 1.5
          },
          "type": "line",
          "x0": 0,
          "x1": 2,
          "xref": "x3",
          "y0": 2.6539508062307196,
          "y1": 2.6539508062307196,
          "yref": "y3"
         },
         {
          "line": {
           "color": "rgba(0,0,0,1)",
           "width": 1.5
          },
          "type": "line",
          "x0": 2,
          "x1": 2,
          "xref": "x3",
          "y0": 2.6539508062307196,
          "y1": 2.5539508062307195,
          "yref": "y3"
         },
         {
          "line": {
           "color": "rgba(0,0,0,1)",
           "width": 1.5
          },
          "type": "line",
          "x0": 0,
          "x1": 0,
          "xref": "x4",
          "y0": 1.7250458502052808,
          "y1": 2.5857239737775988,
          "yref": "y4"
         },
         {
          "line": {
           "color": "rgba(0,0,0,1)",
           "width": 1.5
          },
          "type": "line",
          "x0": 0,
          "x1": 0.99,
          "xref": "x4",
          "y0": 2.5857239737775988,
          "y1": 2.5857239737775988,
          "yref": "y4"
         },
         {
          "line": {
           "color": "rgba(0,0,0,1)",
           "width": 1.5
          },
          "type": "line",
          "x0": 0.99,
          "x1": 0.99,
          "xref": "x4",
          "y0": 2.5857239737775988,
          "y1": 2.5357239737775985,
          "yref": "y4"
         },
         {
          "line": {
           "color": "rgba(0,0,0,1)",
           "width": 1.5
          },
          "type": "line",
          "x0": 1.01,
          "x1": 1.01,
          "xref": "x4",
          "y0": 2.5357239737775985,
          "y1": 2.5857239737775988,
          "yref": "y4"
         },
         {
          "line": {
           "color": "rgba(0,0,0,1)",
           "width": 1.5
          },
          "type": "line",
          "x0": 1.01,
          "x1": 2,
          "xref": "x4",
          "y0": 2.5857239737775988,
          "y1": 2.5857239737775988,
          "yref": "y4"
         },
         {
          "line": {
           "color": "rgba(0,0,0,1)",
           "width": 1.5
          },
          "type": "line",
          "x0": 2,
          "x1": 2,
          "xref": "x4",
          "y0": 2.5857239737775988,
          "y1": 1.2821871213697074,
          "yref": "y4"
         },
         {
          "line": {
           "color": "rgba(0,0,0,1)",
           "width": 1.5
          },
          "type": "line",
          "x0": 0,
          "x1": 0,
          "xref": "x4",
          "y0": 2.6357239737775986,
          "y1": 2.7357239737775987,
          "yref": "y4"
         },
         {
          "line": {
           "color": "rgba(0,0,0,1)",
           "width": 1.5
          },
          "type": "line",
          "x0": 0,
          "x1": 2,
          "xref": "x4",
          "y0": 2.7357239737775987,
          "y1": 2.7357239737775987,
          "yref": "y4"
         },
         {
          "line": {
           "color": "rgba(0,0,0,1)",
           "width": 1.5
          },
          "type": "line",
          "x0": 2,
          "x1": 2,
          "xref": "x4",
          "y0": 2.7357239737775987,
          "y1": 2.6357239737775986,
          "yref": "y4"
         },
         {
          "line": {
           "color": "rgba(0,0,0,1)",
           "width": 1.5
          },
          "type": "line",
          "x0": 0,
          "x1": 0,
          "xref": "x5",
          "y0": 0.5893559742029839,
          "y1": 1.1996682431874959,
          "yref": "y5"
         },
         {
          "line": {
           "color": "rgba(0,0,0,1)",
           "width": 1.5
          },
          "type": "line",
          "x0": 0,
          "x1": 0.99,
          "xref": "x5",
          "y0": 1.1996682431874959,
          "y1": 1.1996682431874959,
          "yref": "y5"
         },
         {
          "line": {
           "color": "rgba(0,0,0,1)",
           "width": 1.5
          },
          "type": "line",
          "x0": 0.99,
          "x1": 0.99,
          "xref": "x5",
          "y0": 1.1996682431874959,
          "y1": 1.1496682431874958,
          "yref": "y5"
         },
         {
          "line": {
           "color": "rgba(0,0,0,1)",
           "width": 1.5
          },
          "type": "line",
          "x0": 1.01,
          "x1": 1.01,
          "xref": "x5",
          "y0": 1.1496682431874958,
          "y1": 1.1996682431874959,
          "yref": "y5"
         },
         {
          "line": {
           "color": "rgba(0,0,0,1)",
           "width": 1.5
          },
          "type": "line",
          "x0": 1.01,
          "x1": 2,
          "xref": "x5",
          "y0": 1.1996682431874959,
          "y1": 1.1996682431874959,
          "yref": "y5"
         },
         {
          "line": {
           "color": "rgba(0,0,0,1)",
           "width": 1.5
          },
          "type": "line",
          "x0": 2,
          "x1": 2,
          "xref": "x5",
          "y0": 1.1996682431874959,
          "y1": 0.43415744470172846,
          "yref": "y5"
         },
         {
          "line": {
           "color": "rgba(0,0,0,1)",
           "width": 1.5
          },
          "type": "line",
          "x0": 0,
          "x1": 0,
          "xref": "x5",
          "y0": 1.2496682431874957,
          "y1": 1.3496682431874958,
          "yref": "y5"
         },
         {
          "line": {
           "color": "rgba(0,0,0,1)",
           "width": 1.5
          },
          "type": "line",
          "x0": 0,
          "x1": 2,
          "xref": "x5",
          "y0": 1.3496682431874958,
          "y1": 1.3496682431874958,
          "yref": "y5"
         },
         {
          "line": {
           "color": "rgba(0,0,0,1)",
           "width": 1.5
          },
          "type": "line",
          "x0": 2,
          "x1": 2,
          "xref": "x5",
          "y0": 1.3496682431874958,
          "y1": 1.2496682431874957,
          "yref": "y5"
         },
         {
          "line": {
           "color": "rgba(0,0,0,1)",
           "width": 1.5
          },
          "type": "line",
          "x0": 0,
          "x1": 0,
          "xref": "x6",
          "y0": 0.08286676550737714,
          "y1": 0.33230458074869884,
          "yref": "y6"
         },
         {
          "line": {
           "color": "rgba(0,0,0,1)",
           "width": 1.5
          },
          "type": "line",
          "x0": 0,
          "x1": 0.99,
          "xref": "x6",
          "y0": 0.33230458074869884,
          "y1": 0.33230458074869884,
          "yref": "y6"
         },
         {
          "line": {
           "color": "rgba(0,0,0,1)",
           "width": 1.5
          },
          "type": "line",
          "x0": 0.99,
          "x1": 0.99,
          "xref": "x6",
          "y0": 0.33230458074869884,
          "y1": 0.32230458074869883,
          "yref": "y6"
         },
         {
          "line": {
           "color": "rgba(0,0,0,1)",
           "width": 1.5
          },
          "type": "line",
          "x0": 1.01,
          "x1": 1.01,
          "xref": "x6",
          "y0": 0.32230458074869883,
          "y1": 0.33230458074869884,
          "yref": "y6"
         },
         {
          "line": {
           "color": "rgba(0,0,0,1)",
           "width": 1.5
          },
          "type": "line",
          "x0": 1.01,
          "x1": 2,
          "xref": "x6",
          "y0": 0.33230458074869884,
          "y1": 0.33230458074869884,
          "yref": "y6"
         },
         {
          "line": {
           "color": "rgba(0,0,0,1)",
           "width": 1.5
          },
          "type": "line",
          "x0": 2,
          "x1": 2,
          "xref": "x6",
          "y0": 0.33230458074869884,
          "y1": 0.10317278153566048,
          "yref": "y6"
         },
         {
          "line": {
           "color": "rgba(0,0,0,1)",
           "width": 1.5
          },
          "type": "line",
          "x0": 0,
          "x1": 0,
          "xref": "x6",
          "y0": 0.3823045807486989,
          "y1": 0.40230458074869885,
          "yref": "y6"
         },
         {
          "line": {
           "color": "rgba(0,0,0,1)",
           "width": 1.5
          },
          "type": "line",
          "x0": 0,
          "x1": 2,
          "xref": "x6",
          "y0": 0.40230458074869885,
          "y1": 0.40230458074869885,
          "yref": "y6"
         },
         {
          "line": {
           "color": "rgba(0,0,0,1)",
           "width": 1.5
          },
          "type": "line",
          "x0": 2,
          "x1": 2,
          "xref": "x6",
          "y0": 0.40230458074869885,
          "y1": 0.3823045807486989,
          "yref": "y6"
         }
        ],
        "template": {
         "data": {
          "bar": [
           {
            "error_x": {
             "color": "rgb(36,36,36)"
            },
            "error_y": {
             "color": "rgb(36,36,36)"
            },
            "marker": {
             "line": {
              "color": "white",
              "width": 0.5
             },
             "pattern": {
              "fillmode": "overlay",
              "size": 10,
              "solidity": 0.2
             }
            },
            "type": "bar"
           }
          ],
          "barpolar": [
           {
            "marker": {
             "line": {
              "color": "white",
              "width": 0.5
             },
             "pattern": {
              "fillmode": "overlay",
              "size": 10,
              "solidity": 0.2
             }
            },
            "type": "barpolar"
           }
          ],
          "carpet": [
           {
            "aaxis": {
             "endlinecolor": "rgb(36,36,36)",
             "gridcolor": "white",
             "linecolor": "white",
             "minorgridcolor": "white",
             "startlinecolor": "rgb(36,36,36)"
            },
            "baxis": {
             "endlinecolor": "rgb(36,36,36)",
             "gridcolor": "white",
             "linecolor": "white",
             "minorgridcolor": "white",
             "startlinecolor": "rgb(36,36,36)"
            },
            "type": "carpet"
           }
          ],
          "choropleth": [
           {
            "colorbar": {
             "outlinewidth": 1,
             "tickcolor": "rgb(36,36,36)",
             "ticks": "outside"
            },
            "type": "choropleth"
           }
          ],
          "contour": [
           {
            "colorbar": {
             "outlinewidth": 1,
             "tickcolor": "rgb(36,36,36)",
             "ticks": "outside"
            },
            "colorscale": [
             [
              0,
              "#440154"
             ],
             [
              0.1111111111111111,
              "#482878"
             ],
             [
              0.2222222222222222,
              "#3e4989"
             ],
             [
              0.3333333333333333,
              "#31688e"
             ],
             [
              0.4444444444444444,
              "#26828e"
             ],
             [
              0.5555555555555556,
              "#1f9e89"
             ],
             [
              0.6666666666666666,
              "#35b779"
             ],
             [
              0.7777777777777778,
              "#6ece58"
             ],
             [
              0.8888888888888888,
              "#b5de2b"
             ],
             [
              1,
              "#fde725"
             ]
            ],
            "type": "contour"
           }
          ],
          "contourcarpet": [
           {
            "colorbar": {
             "outlinewidth": 1,
             "tickcolor": "rgb(36,36,36)",
             "ticks": "outside"
            },
            "type": "contourcarpet"
           }
          ],
          "heatmap": [
           {
            "colorbar": {
             "outlinewidth": 1,
             "tickcolor": "rgb(36,36,36)",
             "ticks": "outside"
            },
            "colorscale": [
             [
              0,
              "#440154"
             ],
             [
              0.1111111111111111,
              "#482878"
             ],
             [
              0.2222222222222222,
              "#3e4989"
             ],
             [
              0.3333333333333333,
              "#31688e"
             ],
             [
              0.4444444444444444,
              "#26828e"
             ],
             [
              0.5555555555555556,
              "#1f9e89"
             ],
             [
              0.6666666666666666,
              "#35b779"
             ],
             [
              0.7777777777777778,
              "#6ece58"
             ],
             [
              0.8888888888888888,
              "#b5de2b"
             ],
             [
              1,
              "#fde725"
             ]
            ],
            "type": "heatmap"
           }
          ],
          "heatmapgl": [
           {
            "colorbar": {
             "outlinewidth": 1,
             "tickcolor": "rgb(36,36,36)",
             "ticks": "outside"
            },
            "colorscale": [
             [
              0,
              "#440154"
             ],
             [
              0.1111111111111111,
              "#482878"
             ],
             [
              0.2222222222222222,
              "#3e4989"
             ],
             [
              0.3333333333333333,
              "#31688e"
             ],
             [
              0.4444444444444444,
              "#26828e"
             ],
             [
              0.5555555555555556,
              "#1f9e89"
             ],
             [
              0.6666666666666666,
              "#35b779"
             ],
             [
              0.7777777777777778,
              "#6ece58"
             ],
             [
              0.8888888888888888,
              "#b5de2b"
             ],
             [
              1,
              "#fde725"
             ]
            ],
            "type": "heatmapgl"
           }
          ],
          "histogram": [
           {
            "marker": {
             "line": {
              "color": "white",
              "width": 0.6
             }
            },
            "type": "histogram"
           }
          ],
          "histogram2d": [
           {
            "colorbar": {
             "outlinewidth": 1,
             "tickcolor": "rgb(36,36,36)",
             "ticks": "outside"
            },
            "colorscale": [
             [
              0,
              "#440154"
             ],
             [
              0.1111111111111111,
              "#482878"
             ],
             [
              0.2222222222222222,
              "#3e4989"
             ],
             [
              0.3333333333333333,
              "#31688e"
             ],
             [
              0.4444444444444444,
              "#26828e"
             ],
             [
              0.5555555555555556,
              "#1f9e89"
             ],
             [
              0.6666666666666666,
              "#35b779"
             ],
             [
              0.7777777777777778,
              "#6ece58"
             ],
             [
              0.8888888888888888,
              "#b5de2b"
             ],
             [
              1,
              "#fde725"
             ]
            ],
            "type": "histogram2d"
           }
          ],
          "histogram2dcontour": [
           {
            "colorbar": {
             "outlinewidth": 1,
             "tickcolor": "rgb(36,36,36)",
             "ticks": "outside"
            },
            "colorscale": [
             [
              0,
              "#440154"
             ],
             [
              0.1111111111111111,
              "#482878"
             ],
             [
              0.2222222222222222,
              "#3e4989"
             ],
             [
              0.3333333333333333,
              "#31688e"
             ],
             [
              0.4444444444444444,
              "#26828e"
             ],
             [
              0.5555555555555556,
              "#1f9e89"
             ],
             [
              0.6666666666666666,
              "#35b779"
             ],
             [
              0.7777777777777778,
              "#6ece58"
             ],
             [
              0.8888888888888888,
              "#b5de2b"
             ],
             [
              1,
              "#fde725"
             ]
            ],
            "type": "histogram2dcontour"
           }
          ],
          "mesh3d": [
           {
            "colorbar": {
             "outlinewidth": 1,
             "tickcolor": "rgb(36,36,36)",
             "ticks": "outside"
            },
            "type": "mesh3d"
           }
          ],
          "parcoords": [
           {
            "line": {
             "colorbar": {
              "outlinewidth": 1,
              "tickcolor": "rgb(36,36,36)",
              "ticks": "outside"
             }
            },
            "type": "parcoords"
           }
          ],
          "pie": [
           {
            "automargin": true,
            "type": "pie"
           }
          ],
          "scatter": [
           {
            "fillpattern": {
             "fillmode": "overlay",
             "size": 10,
             "solidity": 0.2
            },
            "type": "scatter"
           }
          ],
          "scatter3d": [
           {
            "line": {
             "colorbar": {
              "outlinewidth": 1,
              "tickcolor": "rgb(36,36,36)",
              "ticks": "outside"
             }
            },
            "marker": {
             "colorbar": {
              "outlinewidth": 1,
              "tickcolor": "rgb(36,36,36)",
              "ticks": "outside"
             }
            },
            "type": "scatter3d"
           }
          ],
          "scattercarpet": [
           {
            "marker": {
             "colorbar": {
              "outlinewidth": 1,
              "tickcolor": "rgb(36,36,36)",
              "ticks": "outside"
             }
            },
            "type": "scattercarpet"
           }
          ],
          "scattergeo": [
           {
            "marker": {
             "colorbar": {
              "outlinewidth": 1,
              "tickcolor": "rgb(36,36,36)",
              "ticks": "outside"
             }
            },
            "type": "scattergeo"
           }
          ],
          "scattergl": [
           {
            "marker": {
             "colorbar": {
              "outlinewidth": 1,
              "tickcolor": "rgb(36,36,36)",
              "ticks": "outside"
             }
            },
            "type": "scattergl"
           }
          ],
          "scattermapbox": [
           {
            "marker": {
             "colorbar": {
              "outlinewidth": 1,
              "tickcolor": "rgb(36,36,36)",
              "ticks": "outside"
             }
            },
            "type": "scattermapbox"
           }
          ],
          "scatterpolar": [
           {
            "marker": {
             "colorbar": {
              "outlinewidth": 1,
              "tickcolor": "rgb(36,36,36)",
              "ticks": "outside"
             }
            },
            "type": "scatterpolar"
           }
          ],
          "scatterpolargl": [
           {
            "marker": {
             "colorbar": {
              "outlinewidth": 1,
              "tickcolor": "rgb(36,36,36)",
              "ticks": "outside"
             }
            },
            "type": "scatterpolargl"
           }
          ],
          "scatterternary": [
           {
            "marker": {
             "colorbar": {
              "outlinewidth": 1,
              "tickcolor": "rgb(36,36,36)",
              "ticks": "outside"
             }
            },
            "type": "scatterternary"
           }
          ],
          "surface": [
           {
            "colorbar": {
             "outlinewidth": 1,
             "tickcolor": "rgb(36,36,36)",
             "ticks": "outside"
            },
            "colorscale": [
             [
              0,
              "#440154"
             ],
             [
              0.1111111111111111,
              "#482878"
             ],
             [
              0.2222222222222222,
              "#3e4989"
             ],
             [
              0.3333333333333333,
              "#31688e"
             ],
             [
              0.4444444444444444,
              "#26828e"
             ],
             [
              0.5555555555555556,
              "#1f9e89"
             ],
             [
              0.6666666666666666,
              "#35b779"
             ],
             [
              0.7777777777777778,
              "#6ece58"
             ],
             [
              0.8888888888888888,
              "#b5de2b"
             ],
             [
              1,
              "#fde725"
             ]
            ],
            "type": "surface"
           }
          ],
          "table": [
           {
            "cells": {
             "fill": {
              "color": "rgb(237,237,237)"
             },
             "line": {
              "color": "white"
             }
            },
            "header": {
             "fill": {
              "color": "rgb(217,217,217)"
             },
             "line": {
              "color": "white"
             }
            },
            "type": "table"
           }
          ]
         },
         "layout": {
          "annotationdefaults": {
           "arrowhead": 0,
           "arrowwidth": 1
          },
          "autotypenumbers": "strict",
          "coloraxis": {
           "colorbar": {
            "outlinewidth": 1,
            "tickcolor": "rgb(36,36,36)",
            "ticks": "outside"
           }
          },
          "colorscale": {
           "diverging": [
            [
             0,
             "rgb(103,0,31)"
            ],
            [
             0.1,
             "rgb(178,24,43)"
            ],
            [
             0.2,
             "rgb(214,96,77)"
            ],
            [
             0.3,
             "rgb(244,165,130)"
            ],
            [
             0.4,
             "rgb(253,219,199)"
            ],
            [
             0.5,
             "rgb(247,247,247)"
            ],
            [
             0.6,
             "rgb(209,229,240)"
            ],
            [
             0.7,
             "rgb(146,197,222)"
            ],
            [
             0.8,
             "rgb(67,147,195)"
            ],
            [
             0.9,
             "rgb(33,102,172)"
            ],
            [
             1,
             "rgb(5,48,97)"
            ]
           ],
           "sequential": [
            [
             0,
             "#440154"
            ],
            [
             0.1111111111111111,
             "#482878"
            ],
            [
             0.2222222222222222,
             "#3e4989"
            ],
            [
             0.3333333333333333,
             "#31688e"
            ],
            [
             0.4444444444444444,
             "#26828e"
            ],
            [
             0.5555555555555556,
             "#1f9e89"
            ],
            [
             0.6666666666666666,
             "#35b779"
            ],
            [
             0.7777777777777778,
             "#6ece58"
            ],
            [
             0.8888888888888888,
             "#b5de2b"
            ],
            [
             1,
             "#fde725"
            ]
           ],
           "sequentialminus": [
            [
             0,
             "#440154"
            ],
            [
             0.1111111111111111,
             "#482878"
            ],
            [
             0.2222222222222222,
             "#3e4989"
            ],
            [
             0.3333333333333333,
             "#31688e"
            ],
            [
             0.4444444444444444,
             "#26828e"
            ],
            [
             0.5555555555555556,
             "#1f9e89"
            ],
            [
             0.6666666666666666,
             "#35b779"
            ],
            [
             0.7777777777777778,
             "#6ece58"
            ],
            [
             0.8888888888888888,
             "#b5de2b"
            ],
            [
             1,
             "#fde725"
            ]
           ]
          },
          "colorway": [
           "#1F77B4",
           "#FF7F0E",
           "#2CA02C",
           "#D62728",
           "#9467BD",
           "#8C564B",
           "#E377C2",
           "#7F7F7F",
           "#BCBD22",
           "#17BECF"
          ],
          "font": {
           "color": "rgb(36,36,36)"
          },
          "geo": {
           "bgcolor": "white",
           "lakecolor": "white",
           "landcolor": "white",
           "showlakes": true,
           "showland": true,
           "subunitcolor": "white"
          },
          "hoverlabel": {
           "align": "left"
          },
          "hovermode": "closest",
          "mapbox": {
           "style": "light"
          },
          "paper_bgcolor": "white",
          "plot_bgcolor": "white",
          "polar": {
           "angularaxis": {
            "gridcolor": "rgb(232,232,232)",
            "linecolor": "rgb(36,36,36)",
            "showgrid": false,
            "showline": true,
            "ticks": "outside"
           },
           "bgcolor": "white",
           "radialaxis": {
            "gridcolor": "rgb(232,232,232)",
            "linecolor": "rgb(36,36,36)",
            "showgrid": false,
            "showline": true,
            "ticks": "outside"
           }
          },
          "scene": {
           "xaxis": {
            "backgroundcolor": "white",
            "gridcolor": "rgb(232,232,232)",
            "gridwidth": 2,
            "linecolor": "rgb(36,36,36)",
            "showbackground": true,
            "showgrid": false,
            "showline": true,
            "ticks": "outside",
            "zeroline": false,
            "zerolinecolor": "rgb(36,36,36)"
           },
           "yaxis": {
            "backgroundcolor": "white",
            "gridcolor": "rgb(232,232,232)",
            "gridwidth": 2,
            "linecolor": "rgb(36,36,36)",
            "showbackground": true,
            "showgrid": false,
            "showline": true,
            "ticks": "outside",
            "zeroline": false,
            "zerolinecolor": "rgb(36,36,36)"
           },
           "zaxis": {
            "backgroundcolor": "white",
            "gridcolor": "rgb(232,232,232)",
            "gridwidth": 2,
            "linecolor": "rgb(36,36,36)",
            "showbackground": true,
            "showgrid": false,
            "showline": true,
            "ticks": "outside",
            "zeroline": false,
            "zerolinecolor": "rgb(36,36,36)"
           }
          },
          "shapedefaults": {
           "fillcolor": "black",
           "line": {
            "width": 0
           },
           "opacity": 0.3
          },
          "ternary": {
           "aaxis": {
            "gridcolor": "rgb(232,232,232)",
            "linecolor": "rgb(36,36,36)",
            "showgrid": false,
            "showline": true,
            "ticks": "outside"
           },
           "baxis": {
            "gridcolor": "rgb(232,232,232)",
            "linecolor": "rgb(36,36,36)",
            "showgrid": false,
            "showline": true,
            "ticks": "outside"
           },
           "bgcolor": "white",
           "caxis": {
            "gridcolor": "rgb(232,232,232)",
            "linecolor": "rgb(36,36,36)",
            "showgrid": false,
            "showline": true,
            "ticks": "outside"
           }
          },
          "title": {
           "x": 0.05
          },
          "xaxis": {
           "automargin": true,
           "gridcolor": "rgb(232,232,232)",
           "linecolor": "rgb(36,36,36)",
           "showgrid": false,
           "showline": true,
           "ticks": "outside",
           "title": {
            "standoff": 15
           },
           "zeroline": false,
           "zerolinecolor": "rgb(36,36,36)"
          },
          "yaxis": {
           "automargin": true,
           "gridcolor": "rgb(232,232,232)",
           "linecolor": "rgb(36,36,36)",
           "showgrid": false,
           "showline": true,
           "ticks": "outside",
           "title": {
            "standoff": 15
           },
           "zeroline": false,
           "zerolinecolor": "rgb(36,36,36)"
          }
         }
        },
        "width": 2200,
        "xaxis": {
         "anchor": "y",
         "domain": [
          0,
          0.485
         ],
         "matches": "x5",
         "showgrid": true,
         "showticklabels": false,
         "ticktext": [
          "pre",
          "seizure",
          "post"
         ],
         "tickvals": [
          0,
          1,
          2
         ]
        },
        "xaxis2": {
         "anchor": "y2",
         "domain": [
          0.515,
          1
         ],
         "matches": "x6",
         "showgrid": true,
         "showticklabels": false,
         "ticktext": [
          "pre",
          "seizure",
          "post"
         ],
         "tickvals": [
          0,
          1,
          2
         ]
        },
        "xaxis3": {
         "anchor": "y3",
         "domain": [
          0,
          0.485
         ],
         "matches": "x5",
         "showgrid": true,
         "showticklabels": false,
         "ticktext": [
          "pre",
          "seizure",
          "post"
         ],
         "tickvals": [
          0,
          1,
          2
         ]
        },
        "xaxis4": {
         "anchor": "y4",
         "domain": [
          0.515,
          1
         ],
         "matches": "x6",
         "showgrid": true,
         "showticklabels": false,
         "ticktext": [
          "pre",
          "seizure",
          "post"
         ],
         "tickvals": [
          0,
          1,
          2
         ]
        },
        "xaxis5": {
         "anchor": "y5",
         "domain": [
          0,
          0.485
         ],
         "showgrid": true,
         "ticktext": [
          "pre",
          "seizure",
          "post"
         ],
         "tickvals": [
          0,
          1,
          2
         ]
        },
        "xaxis6": {
         "anchor": "y6",
         "domain": [
          0.515,
          1
         ],
         "showgrid": true,
         "ticktext": [
          "pre",
          "seizure",
          "post"
         ],
         "tickvals": [
          0,
          1,
          2
         ]
        },
        "yaxis": {
         "anchor": "x",
         "domain": [
          0.7,
          1
         ],
         "range": [
          2.65,
          3.95
         ],
         "showgrid": true,
         "title": {
          "text": "average AE"
         }
        },
        "yaxis2": {
         "anchor": "x2",
         "domain": [
          0.7,
          1
         ],
         "range": [
          1.6,
          3.4
         ],
         "showgrid": true
        },
        "yaxis3": {
         "anchor": "x3",
         "domain": [
          0.35,
          0.6499999999999999
         ],
         "range": [
          1.1,
          2.9
         ],
         "showgrid": true,
         "title": {
          "text": "average AE"
         }
        },
        "yaxis4": {
         "anchor": "x4",
         "domain": [
          0.35,
          0.6499999999999999
         ],
         "range": [
          1.1,
          2.9
         ],
         "showgrid": true
        },
        "yaxis5": {
         "anchor": "x5",
         "domain": [
          0,
          0.3
         ],
         "range": [
          0.2,
          1.5
         ],
         "showgrid": true,
         "title": {
          "text": "average AE"
         }
        },
        "yaxis6": {
         "anchor": "x6",
         "domain": [
          0,
          0.3
         ],
         "range": [
          0.03,
          0.47
         ],
         "showgrid": true
        }
       }
      }
     },
     "metadata": {},
     "output_type": "display_data"
    }
   ],
   "source": [
    "fig = make_subplots(rows=3, cols=2,vertical_spacing=0.05,horizontal_spacing=0.03,shared_xaxes=True,\n",
    "                    subplot_titles=(\n",
    "                            \"Delta (δ) Band\",\n",
    "                            \"Theta (θ) Band\",\n",
    "                            \"Alpha (α) Band\",\n",
    "                            \"Beta (β) Band\",\n",
    "                            \"Lgamma (Lγ) Band\",\n",
    "                            \"Hgamma (Hγ) Band\"))\n",
    "\n",
    "\n",
    "mappi(fig,\"delta\",1,1,\"<0.001\",\"ns\",\"<0.001\")\n",
    "mappi(fig,\"theta\",1,2,\"<0.001\",\"<0.001\",\"ns\")\n",
    "mappi(fig,\"alpha\",2,1,\"<0.001\",\"<0.001\",\"ns\")\n",
    "mappi(fig,\"beta\",2,2,\"<0.001\",\"<0.001\",\"<0.001\")\n",
    "mappi(fig,\"lgamma\",3,1,\"<0.001\",\"<0.001\",\"ns\")\n",
    "mappi(fig,\"hgamma\",3,2,\"<0.001\",\"<0.001\",\"ns\")\n",
    "\n",
    "means=band_grouped_data.query('band==\"hgamma\"')[['pre_mean','sez_mean','post_mean']].iloc[0].values\n",
    "p_value_brackets = [\n",
    "            {'x_coords': [0,0,0.99,0.99],\n",
    "            'y_coords': [means[0]  +0.03, means[1] + +0.04 ,\n",
    "                        means[1]  +0.04 , means[1] + 0.03 ],\n",
    "            'label': \"<0.001\"},\n",
    "            {'x_coords': [1.01,1.01,2,2],\n",
    "            'y_coords': [means[1] +  0.03, means[1]  + 0.04,\n",
    "                        means[1] +  0.04, means[2]  + 0.03],\n",
    "            'label': \"<0.001\"},\n",
    "            {'x_coords': [0,0,2,2],\n",
    "            'y_coords': [means[1]  + 0.09, means[1]  +0.11,\n",
    "                        means[1]  + 0.11, means[1]  + 0.09 ],\n",
    "            'label': \"0.371\"}] \n",
    "\n",
    "for bracket in p_value_brackets:\n",
    "        for i in range(1, len(bracket['x_coords'])):\n",
    "                fig.add_shape(dict(type=\"line\", xref=\"x\", yref=\"y\",\n",
    "                    x0=bracket['x_coords'][i - 1],x1=bracket['x_coords'][i],\n",
    "                    y0=bracket['y_coords'][i - 1],y1=bracket['y_coords'][i]),\n",
    "                    line=dict(color='rgba(0,0,0,1)', width=1.5),\n",
    "                    row=3, col=2)\n",
    "        fig.add_annotation(dict(\n",
    "                text=bracket['label'],name=\"p-value\",xref=\"x\", \n",
    "                x=(bracket['x_coords'][0] + bracket['x_coords'][2]) / 2,\n",
    "                y=bracket['y_coords'][1]+0.03,\n",
    "                showarrow=False),\n",
    "                font=dict(size=30, color=\"blue\",family=\"Times new Roman\"),\n",
    "                row=3, col=2)\n",
    "\n",
    "\n",
    "\n",
    "fig.update_yaxes(title_text=\"average AE\",range=(2.65,3.95),row=1, col=1)\n",
    "fig.update_yaxes(range=(1.6,3.4),row=1, col=2)\n",
    "fig.update_yaxes(title_text=\"average AE\",range=(1.1,2.9),row=2, col=1)\n",
    "fig.update_yaxes(range=(1.1,2.9),row=2, col=2)\n",
    "fig.update_yaxes(title_text=\"average AE\",range=(0.2,1.5),row=3, col=1)\n",
    "fig.update_yaxes(range=(0.03,0.47),row=3, col=2)\n",
    "\n",
    "# Add shapes\n",
    "# fig.update_layout(\n",
    "#     shapes=[\n",
    "#         dict(type=\"rect\", xref=\"x1\",yref=\"y1\",\n",
    "#             x0=0, y0=2.65, x1=2, y1=3.95, line_width=3),\n",
    "#         dict(type=\"rect\", xref=\"x2\", yref='y2',\n",
    "#              x0=0, y0=1.6, x1=2, y1=3.4),\n",
    "#         dict(type=\"rect\", xref=\"x3\", yref=\"y3\",\n",
    "#              x0=0, y0=1.1, x1=2, y1=2.9),\n",
    "#         dict(type=\"rect\", xref=\"x4\", yref=\"y4\",\n",
    "#              x0=0, y0=1.1, x1=2, y1=2.9),\n",
    "#         dict(type=\"rect\", xref=\"x5\", yref=\"y5\",\n",
    "#              x0=0, y0=0.2, x1=2, y1=1.5),\n",
    "#         dict(type=\"rect\", xref=\"x6\", yref=\"y6\",\n",
    "#              x0=0, y0=0.03, x1=2, y1=0.47)\n",
    "#         ])\n",
    "\n",
    "fon_sz=30;\n",
    "fig.update_layout(\n",
    "        legend=dict(orientation=\"h\",yanchor=\"bottom\",y=1.02,xanchor=\"center\",x=0.5,font=dict(size=40)),\n",
    "        template=\"simple_white\",\n",
    "        font_family=\"Times new Roman\",font_color=\"black\",font_size=fon_sz,height=1200,width=2200)\n",
    "fig.update_annotations(font=dict(family=\"Times new Roman\", size=30))\n",
    "fig.for_each_xaxis(lambda x: x.update(showgrid=True))\n",
    "fig.for_each_yaxis(lambda x: x.update(showgrid=True))\n",
    "\n",
    "\n",
    "fig.show()\n",
    "fig.write_image(\"../Link to img/Fig2.png\")\n",
    "fig.write_html(\"../images/interactive/Fig2.html\")\n"
   ]
  },
  {
   "cell_type": "code",
   "execution_count": null,
   "metadata": {},
   "outputs": [],
   "source": []
  },
  {
   "cell_type": "code",
   "execution_count": null,
   "metadata": {},
   "outputs": [],
   "source": []
  },
  {
   "cell_type": "markdown",
   "metadata": {},
   "source": [
    "Suplimentary Figure 2S1"
   ]
  },
  {
   "cell_type": "code",
   "execution_count": 33,
   "metadata": {},
   "outputs": [],
   "source": [
    "# for pid in range(1,17):        \n",
    "#         x_coords = [0, 1, 2]\n",
    "#         s=pat_grouped_data.query('pat_id=='+str(pid))[['band','pre_mean','sez_mean','post_mean']]\n",
    "#         fig = make_subplots(rows=3, cols=2,vertical_spacing=0.05,horizontal_spacing=0.03,shared_xaxes=True,subplot_titles=(\n",
    "#                                 \"Delta (δ) Band\",\n",
    "#                                 \"Theta (θ) Band\",\n",
    "#                                 \"Alpha (α) Band\",\n",
    "#                                 \"Beta (β) Band\",\n",
    "#                                 \"Lgamma (Lγ) Band\",\n",
    "#                                 \"Hgamma (Hγ) Band\"))\n",
    "        \n",
    "#         bad=[\"delta\",\"theta\",\"alpha\",\"beta\",\"lgamma\",\"hgamma\"]\n",
    "#         bd_idx=0\n",
    "\n",
    "#         for ridx in range(1,4):\n",
    "#                 for cidx in range(1,3):\n",
    "#                         bd=bad[bd_idx]\n",
    "#                         means=s.query('band==\"'+bd+'\"')[['pre_mean','sez_mean','post_mean']].iloc[0].values\n",
    "#                         fig.add_trace(go.Scatter(x=x_coords,y=means,mode='lines+markers',\n",
    "#                                         #error_y=dict(type='data', array=sems,color='rgba(0,0,0,0.5)', thickness=1.5, width=10),\n",
    "#                                         name=bandds[bandds.name==bd].sym.values[0],\n",
    "#                                         marker=dict(color=bandds[bandds.name==bd].color.values[0],size=10),\n",
    "#                                         line=dict(color=bandds[bandds.name==bd].color.values[0],width=3)\n",
    "#                                         ),row=ridx, col=cidx)\n",
    "#                         fig.update_xaxes(tickvals=x_coords,ticktext=[\"pre\", \"seizure\", \"post\"],row=ridx, col=cidx)\n",
    "#                         bd_idx+=1\n",
    "\n",
    "#         fig.update_yaxes(title_text=\"average AE\",row=1, col=1)\n",
    "#         fig.update_yaxes(title_text=\"average AE\",row=2, col=1)\n",
    "#         fig.update_yaxes(title_text=\"average AE\",row=3, col=1)\n",
    "\n",
    "#         # Add shapes\n",
    "#         # fig.update_layout(\n",
    "#         #     shapes=[\n",
    "#         #         dict(type=\"rect\", xref=\"x1\",yref=\"y1\",\n",
    "#         #             x0=0, y0=2.65, x1=2, y1=3.95, line_width=3),\n",
    "#         #         dict(type=\"rect\", xref=\"x2\", yref='y2',\n",
    "#         #              x0=0, y0=1.6, x1=2, y1=3.4),\n",
    "#         #         dict(type=\"rect\", xref=\"x3\", yref=\"y3\",\n",
    "#         #              x0=0, y0=1.1, x1=2, y1=2.9),\n",
    "#         #         dict(type=\"rect\", xref=\"x4\", yref=\"y4\",\n",
    "#         #              x0=0, y0=1.1, x1=2, y1=2.9),\n",
    "#         #         dict(type=\"rect\", xref=\"x5\", yref=\"y5\",\n",
    "#         #              x0=0, y0=0.2, x1=2, y1=1.5),\n",
    "#         #         dict(type=\"rect\", xref=\"x6\", yref=\"y6\",\n",
    "#         #              x0=0, y0=0.03, x1=2, y1=0.47)\n",
    "#         #         ])\n",
    "\n",
    "#         fon_sz=30;\n",
    "#         fig.update_layout(\n",
    "#                 title_text=\"Patient ID\"+str(pid),\n",
    "#                 legend=dict(orientation=\"h\",yanchor=\"bottom\",y=1.02,xanchor=\"center\",x=0.5,font=dict(size=40)),\n",
    "#                 template=\"simple_white\",\n",
    "#                 font_family=\"Times new Roman\",font_color=\"black\",font_size=fon_sz,height=1200,width=2200)\n",
    "#         fig.update_annotations(font=dict(family=\"Times new Roman\", size=30))\n",
    "#         fig.for_each_xaxis(lambda x: x.update(showgrid=True))\n",
    "#         fig.for_each_yaxis(lambda x: x.update(showgrid=True))\n",
    "\n",
    "                \n",
    "#         #fig.show()    \n",
    "#         fig.write_image(\"../Link to img/sup/fig2s/Fig4S3_ID\"+str(pid)+\".png\")\n",
    "#         fig.write_image(\"../images/SUP/fig2s/Fig4S3_ID\"+str(pid)+\".png\")   "
   ]
  },
  {
   "cell_type": "code",
   "execution_count": null,
   "metadata": {},
   "outputs": [],
   "source": []
  }
 ],
 "metadata": {
  "kernelspec": {
   "display_name": "ampEN",
   "language": "python",
   "name": "python3"
  },
  "language_info": {
   "codemirror_mode": {
    "name": "ipython",
    "version": 3
   },
   "file_extension": ".py",
   "mimetype": "text/x-python",
   "name": "python",
   "nbconvert_exporter": "python",
   "pygments_lexer": "ipython3",
   "version": "3.11.4"
  },
  "orig_nbformat": 4
 },
 "nbformat": 4,
 "nbformat_minor": 2
}
