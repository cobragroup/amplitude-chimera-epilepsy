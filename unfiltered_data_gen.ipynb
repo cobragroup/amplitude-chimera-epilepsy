{
 "cells": [
  {
   "cell_type": "code",
   "execution_count": null,
   "metadata": {},
   "outputs": [],
   "source": [
    "import numpy as np\n",
    "import scipy.io\n",
    "import os\n",
    "import glob\n",
    "import json"
   ]
  },
  {
   "cell_type": "code",
   "execution_count": null,
   "metadata": {},
   "outputs": [],
   "source": [
    "#Global variables\n",
    "\n",
    "sampling_rate=512;\n",
    "bin_size=10;"
   ]
  },
  {
   "cell_type": "code",
   "execution_count": null,
   "metadata": {},
   "outputs": [],
   "source": [
    "from scipy.signal import hilbert\n",
    "\n",
    "def amp_en(alldata, bin_size=bin_size):\n",
    "    number_of_datapoints, number_of_channels = alldata.shape\n",
    "    \n",
    "    # Filtering all the channels\n",
    "    Aamplitude = np.empty((number_of_datapoints, number_of_channels))\n",
    "    for i in range(number_of_channels):\n",
    "        Aamplitude[:, i] = np.abs(hilbert(alldata[:, i]))\n",
    "    \n",
    "    en = np.empty(number_of_datapoints)\n",
    "    \n",
    "    # Calculating Entropies across channels\n",
    "    for t in range(number_of_datapoints):\n",
    "        hist, bin_edges = np.histogram(Aamplitude[t, :], bins=np.arange(min(Aamplitude[t, :]), max(Aamplitude[t, :]) + bin_size, bin_size))\n",
    "        pmf = hist / np.sum(hist)\n",
    "        pmf = pmf[pmf > 0]\n",
    "        en[t] = -np.sum(pmf * np.log2(pmf))\n",
    "    \n",
    "    return en"
   ]
  },
  {
   "cell_type": "code",
   "execution_count": null,
   "metadata": {},
   "outputs": [],
   "source": []
  },
  {
   "cell_type": "code",
   "execution_count": null,
   "metadata": {},
   "outputs": [],
   "source": [
    "output_events={'fileID':[],'pat_id':[],'sez_id':[],'sez_len':[],'elec_no':[],'aa':[]}\n",
    "\n",
    "#Modify the Path here acording to the download location\n",
    "data_path=\"/home/sapta/Documents/\"\n",
    "\n",
    "for patid in range(1,17):\n",
    "    mat_files = glob.glob(os.path.join(data_path+\"ID\"+str(patid), '*.mat'))\n",
    "    no_of_seizures = len(mat_files)\n",
    "    #print(\"No of seizures: \", no_of_seizures)\n",
    "    #Slength=[];no_of_electrodes=[];\n",
    "\n",
    "    for i in range(1,no_of_seizures+1):\n",
    "        filename = os.path.join(data_path, \"ID\"+str(patid)+\"/Sz\"+str(i)+\".mat\")\n",
    "        mat=scipy.io.loadmat(filename)\n",
    "        data=np.array(mat.get('EEG'))\n",
    "\n",
    "        #Sampling rate is 512Hz and each seizure preceded and succeeded by a 3 mins long segment\n",
    "        sez_length=(np.shape(data)[0]/sampling_rate) - (2*3*60) #in seconds\n",
    "        no_elec=np.shape(data)[1]\n",
    "        \n",
    "        # Slength.append(sez_length) #in seconds\n",
    "        # no_of_electrodes.append(no_elec)\n",
    "        \n",
    "        output_events['fileID'].append(\"p\"+str(patid)+\"s\"+str(i))#Recorded in seconds\n",
    "        output_events['pat_id'].append(\"ID\"+str(patid))\n",
    "        output_events['sez_id'].append(i)#Recorded in seconds\n",
    "        output_events['sez_len'].append(sez_length)#Recorded in seconds\n",
    "        output_events['elec_no'].append(no_elec)\n",
    "        output_events['aa'].append(amp_en(data))"
   ]
  },
  {
   "cell_type": "code",
   "execution_count": null,
   "metadata": {},
   "outputs": [],
   "source": [
    "import pandas as pd\n",
    "out=pd.DataFrame.from_dict(output_events)\n",
    "out.to_json(\"../../Code_4/all_unfiltered_data_Swiss-Short.json\", orient='records')"
   ]
  },
  {
   "cell_type": "code",
   "execution_count": null,
   "metadata": {},
   "outputs": [],
   "source": [
    "# result = out.to_json(orient=\"records\")\n",
    "# parsed = json.loads(result)\n",
    "# with open(\"../../Code_3/all_data_Swiss-Short.json\", \"w\") as write_file:\n",
    "#         json.dump(parsed, write_file, indent=4)"
   ]
  },
  {
   "cell_type": "code",
   "execution_count": null,
   "metadata": {},
   "outputs": [],
   "source": []
  },
  {
   "cell_type": "code",
   "execution_count": null,
   "metadata": {},
   "outputs": [],
   "source": []
  }
 ],
 "metadata": {
  "kernelspec": {
   "display_name": "ampEN",
   "language": "python",
   "name": "python3"
  },
  "language_info": {
   "codemirror_mode": {
    "name": "ipython",
    "version": 3
   },
   "file_extension": ".py",
   "mimetype": "text/x-python",
   "name": "python",
   "nbconvert_exporter": "python",
   "pygments_lexer": "ipython3",
   "version": "3.11.4"
  },
  "orig_nbformat": 4
 },
 "nbformat": 4,
 "nbformat_minor": 2
}
