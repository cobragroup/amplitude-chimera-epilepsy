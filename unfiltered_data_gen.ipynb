{
 "cells": [
  {
   "cell_type": "code",
   "execution_count": 1,
   "metadata": {},
   "outputs": [],
   "source": [
    "import numpy as np\n",
    "import pandas as pd\n",
    "import scipy.signal\n",
    "import scipy.io\n",
    "import os\n",
    "import glob\n",
    "#import json"
   ]
  },
  {
   "cell_type": "code",
   "execution_count": 2,
   "metadata": {},
   "outputs": [],
   "source": [
    "#Global variables\n",
    "sampling_rate=512;\n",
    "bin_size=10;\n",
    "\n",
    "#Modify the Path here acording to the download location\n",
    "data_path=\"/home/sapta/Documents/\""
   ]
  },
  {
   "cell_type": "code",
   "execution_count": 3,
   "metadata": {},
   "outputs": [],
   "source": [
    "def amp_en(alldata, bin_size=bin_size):\n",
    "    number_of_datapoints, number_of_channels = alldata.shape\n",
    "    \n",
    "    # Filtering all the channels\n",
    "    Aamplitude = np.empty((number_of_datapoints, number_of_channels))\n",
    "    for i in range(number_of_channels):\n",
    "        Aamplitude[:, i] = np.abs(scipy.signal.hilbert(alldata[:, i]))\n",
    "    \n",
    "    en = np.empty(number_of_datapoints)\n",
    "    \n",
    "    # Calculating Entropies across channels\n",
    "    for t in range(number_of_datapoints):\n",
    "        hist, bin_edges = np.histogram(Aamplitude[t, :], bins=np.arange(min(Aamplitude[t, :]), max(Aamplitude[t, :]) + bin_size, bin_size))\n",
    "        pmf = hist / np.sum(hist)\n",
    "        pmf = pmf[pmf > 0]\n",
    "        en[t] = -np.sum(pmf * np.log2(pmf))\n",
    "    \n",
    "    return en"
   ]
  },
  {
   "cell_type": "markdown",
   "metadata": {},
   "source": [
    "AEs with time"
   ]
  },
  {
   "cell_type": "code",
   "execution_count": 4,
   "metadata": {},
   "outputs": [],
   "source": [
    "output_events={'fileID':[],'pat_id':[],'sez_id':[],'sez_len':[],'elec_no':[],'AE':[]}\n",
    "\n",
    "for patid in range(1,17):\n",
    "    mat_files = glob.glob(os.path.join(data_path+\"ID\"+str(patid), '*.mat'))\n",
    "    no_of_seizures = len(mat_files)\n",
    "    #print(\"No of seizures: \", no_of_seizures)\n",
    "    #Slength=[];no_of_electrodes=[];\n",
    "\n",
    "    for i in range(1,no_of_seizures+1):\n",
    "        filename = os.path.join(data_path, \"ID\"+str(patid)+\"/Sz\"+str(i)+\".mat\")\n",
    "        mat=scipy.io.loadmat(filename)\n",
    "        data=np.array(mat.get('EEG'))\n",
    "\n",
    "        #Sampling rate is 512Hz and each seizure preceded and succeeded by a 3 mins long segment\n",
    "        sez_length=(np.shape(data)[0]/sampling_rate) - (2*3*60) #in seconds\n",
    "        no_elec=np.shape(data)[1]\n",
    "        \n",
    "        # Slength.append(sez_length) #in seconds\n",
    "        # no_of_electrodes.append(no_elec)\n",
    "        \n",
    "        output_events['fileID'].append(\"p\"+str(patid)+\"s\"+str(i))#Recorded in seconds\n",
    "        output_events['pat_id'].append(\"ID\"+str(patid))\n",
    "        output_events['sez_id'].append(i)#Recorded in seconds\n",
    "        output_events['sez_len'].append(sez_length)#Recorded in seconds\n",
    "        output_events['elec_no'].append(no_elec)\n",
    "        output_events['AE'].append(amp_en(data))"
   ]
  },
  {
   "cell_type": "code",
   "execution_count": 5,
   "metadata": {},
   "outputs": [],
   "source": [
    "out=pd.DataFrame.from_dict(output_events)\n",
    "out.to_json(\"../all_unfiltered_data_AE_Swiss-Short.json\", orient='records')"
   ]
  },
  {
   "cell_type": "code",
   "execution_count": 6,
   "metadata": {},
   "outputs": [],
   "source": [
    "# result = out.to_json(orient=\"records\")\n",
    "# parsed = json.loads(result)\n",
    "# with open(\"../../Code_3/all_data_Swiss-Short.json\", \"w\") as write_file:\n",
    "#         json.dump(parsed, write_file, indent=4)"
   ]
  },
  {
   "cell_type": "markdown",
   "metadata": {},
   "source": [
    "Mean patient AEs with time"
   ]
  },
  {
   "cell_type": "code",
   "execution_count": 9,
   "metadata": {},
   "outputs": [],
   "source": [
    "def nans(pid):\n",
    "    ss=[]\n",
    "    for s in out.query('pat_id==\"ID'+str(pid)+'\"')[['sez_len','AE']].iterrows():\n",
    "        tmp=s[1]['AE']\n",
    "        lng=s[1]['sez_len']\n",
    "        no_datapoints = len(tmp)\n",
    "        rg=tmp[(3*60*sampling_rate) : (no_datapoints - (3*60*sampling_rate))] #Seizure Segment\n",
    "        if (len(rg)/sampling_rate)== lng:\n",
    "            # vstacking to make all the segments of same length\n",
    "            #first 3 mins of pre seizure  #seziure segment # np.nan of a length #last 3 mins of post seizure\n",
    "            #largest seizure is 1002 secs so making all seziure segments as 1005 secs with np.nan padding\n",
    "            new_rg=np.hstack((rg,np.full(shape=((1005*sampling_rate) - len(rg)), fill_value=np.nan)))\n",
    "            new_aa=np.hstack((tmp[:(3*60*sampling_rate)],new_rg,tmp[(no_datapoints - (3*60*sampling_rate)):]))\n",
    "            ss.append(new_aa)\n",
    "    return np.nanmean(np.array(ss),axis=0),np.nanstd(np.array(ss),axis=0,ddof=1)"
   ]
  },
  {
   "cell_type": "code",
   "execution_count": 10,
   "metadata": {},
   "outputs": [
    {
     "name": "stderr",
     "output_type": "stream",
     "text": [
      "/tmp/ipykernel_18007/1798842193.py:15: RuntimeWarning: Mean of empty slice\n",
      "  return np.nanmean(np.array(ss),axis=0),np.nanstd(np.array(ss),axis=0,ddof=1)\n",
      "/home/sapta/miniconda3/envs/ampEN/lib/python3.11/site-packages/numpy/lib/nanfunctions.py:1872: RuntimeWarning: Degrees of freedom <= 0 for slice.\n",
      "  var = nanvar(a, axis=axis, dtype=dtype, out=out, ddof=ddof,\n",
      "/tmp/ipykernel_18007/1798842193.py:15: RuntimeWarning: Mean of empty slice\n",
      "  return np.nanmean(np.array(ss),axis=0),np.nanstd(np.array(ss),axis=0,ddof=1)\n",
      "/home/sapta/miniconda3/envs/ampEN/lib/python3.11/site-packages/numpy/lib/nanfunctions.py:1872: RuntimeWarning: Degrees of freedom <= 0 for slice.\n",
      "  var = nanvar(a, axis=axis, dtype=dtype, out=out, ddof=ddof,\n",
      "/tmp/ipykernel_18007/1798842193.py:15: RuntimeWarning: Mean of empty slice\n",
      "  return np.nanmean(np.array(ss),axis=0),np.nanstd(np.array(ss),axis=0,ddof=1)\n",
      "/home/sapta/miniconda3/envs/ampEN/lib/python3.11/site-packages/numpy/lib/nanfunctions.py:1872: RuntimeWarning: Degrees of freedom <= 0 for slice.\n",
      "  var = nanvar(a, axis=axis, dtype=dtype, out=out, ddof=ddof,\n",
      "/tmp/ipykernel_18007/1798842193.py:15: RuntimeWarning: Mean of empty slice\n",
      "  return np.nanmean(np.array(ss),axis=0),np.nanstd(np.array(ss),axis=0,ddof=1)\n",
      "/home/sapta/miniconda3/envs/ampEN/lib/python3.11/site-packages/numpy/lib/nanfunctions.py:1872: RuntimeWarning: Degrees of freedom <= 0 for slice.\n",
      "  var = nanvar(a, axis=axis, dtype=dtype, out=out, ddof=ddof,\n",
      "/tmp/ipykernel_18007/1798842193.py:15: RuntimeWarning: Mean of empty slice\n",
      "  return np.nanmean(np.array(ss),axis=0),np.nanstd(np.array(ss),axis=0,ddof=1)\n",
      "/home/sapta/miniconda3/envs/ampEN/lib/python3.11/site-packages/numpy/lib/nanfunctions.py:1872: RuntimeWarning: Degrees of freedom <= 0 for slice.\n",
      "  var = nanvar(a, axis=axis, dtype=dtype, out=out, ddof=ddof,\n",
      "/tmp/ipykernel_18007/1798842193.py:15: RuntimeWarning: Mean of empty slice\n",
      "  return np.nanmean(np.array(ss),axis=0),np.nanstd(np.array(ss),axis=0,ddof=1)\n",
      "/home/sapta/miniconda3/envs/ampEN/lib/python3.11/site-packages/numpy/lib/nanfunctions.py:1872: RuntimeWarning: Degrees of freedom <= 0 for slice.\n",
      "  var = nanvar(a, axis=axis, dtype=dtype, out=out, ddof=ddof,\n",
      "/tmp/ipykernel_18007/1798842193.py:15: RuntimeWarning: Mean of empty slice\n",
      "  return np.nanmean(np.array(ss),axis=0),np.nanstd(np.array(ss),axis=0,ddof=1)\n",
      "/home/sapta/miniconda3/envs/ampEN/lib/python3.11/site-packages/numpy/lib/nanfunctions.py:1872: RuntimeWarning: Degrees of freedom <= 0 for slice.\n",
      "  var = nanvar(a, axis=axis, dtype=dtype, out=out, ddof=ddof,\n",
      "/tmp/ipykernel_18007/1798842193.py:15: RuntimeWarning: Mean of empty slice\n",
      "  return np.nanmean(np.array(ss),axis=0),np.nanstd(np.array(ss),axis=0,ddof=1)\n",
      "/home/sapta/miniconda3/envs/ampEN/lib/python3.11/site-packages/numpy/lib/nanfunctions.py:1872: RuntimeWarning: Degrees of freedom <= 0 for slice.\n",
      "  var = nanvar(a, axis=axis, dtype=dtype, out=out, ddof=ddof,\n",
      "/tmp/ipykernel_18007/1798842193.py:15: RuntimeWarning: Mean of empty slice\n",
      "  return np.nanmean(np.array(ss),axis=0),np.nanstd(np.array(ss),axis=0,ddof=1)\n",
      "/home/sapta/miniconda3/envs/ampEN/lib/python3.11/site-packages/numpy/lib/nanfunctions.py:1872: RuntimeWarning: Degrees of freedom <= 0 for slice.\n",
      "  var = nanvar(a, axis=axis, dtype=dtype, out=out, ddof=ddof,\n",
      "/tmp/ipykernel_18007/1798842193.py:15: RuntimeWarning: Mean of empty slice\n",
      "  return np.nanmean(np.array(ss),axis=0),np.nanstd(np.array(ss),axis=0,ddof=1)\n",
      "/home/sapta/miniconda3/envs/ampEN/lib/python3.11/site-packages/numpy/lib/nanfunctions.py:1872: RuntimeWarning: Degrees of freedom <= 0 for slice.\n",
      "  var = nanvar(a, axis=axis, dtype=dtype, out=out, ddof=ddof,\n",
      "/tmp/ipykernel_18007/1798842193.py:15: RuntimeWarning: Mean of empty slice\n",
      "  return np.nanmean(np.array(ss),axis=0),np.nanstd(np.array(ss),axis=0,ddof=1)\n",
      "/home/sapta/miniconda3/envs/ampEN/lib/python3.11/site-packages/numpy/lib/nanfunctions.py:1872: RuntimeWarning: Degrees of freedom <= 0 for slice.\n",
      "  var = nanvar(a, axis=axis, dtype=dtype, out=out, ddof=ddof,\n",
      "/tmp/ipykernel_18007/1798842193.py:15: RuntimeWarning: Mean of empty slice\n",
      "  return np.nanmean(np.array(ss),axis=0),np.nanstd(np.array(ss),axis=0,ddof=1)\n",
      "/home/sapta/miniconda3/envs/ampEN/lib/python3.11/site-packages/numpy/lib/nanfunctions.py:1872: RuntimeWarning: Degrees of freedom <= 0 for slice.\n",
      "  var = nanvar(a, axis=axis, dtype=dtype, out=out, ddof=ddof,\n",
      "/tmp/ipykernel_18007/1798842193.py:15: RuntimeWarning: Mean of empty slice\n",
      "  return np.nanmean(np.array(ss),axis=0),np.nanstd(np.array(ss),axis=0,ddof=1)\n",
      "/home/sapta/miniconda3/envs/ampEN/lib/python3.11/site-packages/numpy/lib/nanfunctions.py:1872: RuntimeWarning: Degrees of freedom <= 0 for slice.\n",
      "  var = nanvar(a, axis=axis, dtype=dtype, out=out, ddof=ddof,\n",
      "/tmp/ipykernel_18007/1798842193.py:15: RuntimeWarning: Mean of empty slice\n",
      "  return np.nanmean(np.array(ss),axis=0),np.nanstd(np.array(ss),axis=0,ddof=1)\n",
      "/home/sapta/miniconda3/envs/ampEN/lib/python3.11/site-packages/numpy/lib/nanfunctions.py:1872: RuntimeWarning: Degrees of freedom <= 0 for slice.\n",
      "  var = nanvar(a, axis=axis, dtype=dtype, out=out, ddof=ddof,\n",
      "/tmp/ipykernel_18007/1798842193.py:15: RuntimeWarning: Mean of empty slice\n",
      "  return np.nanmean(np.array(ss),axis=0),np.nanstd(np.array(ss),axis=0,ddof=1)\n",
      "/home/sapta/miniconda3/envs/ampEN/lib/python3.11/site-packages/numpy/lib/nanfunctions.py:1872: RuntimeWarning: Degrees of freedom <= 0 for slice.\n",
      "  var = nanvar(a, axis=axis, dtype=dtype, out=out, ddof=ddof,\n",
      "/tmp/ipykernel_18007/1798842193.py:15: RuntimeWarning: Mean of empty slice\n",
      "  return np.nanmean(np.array(ss),axis=0),np.nanstd(np.array(ss),axis=0,ddof=1)\n",
      "/home/sapta/miniconda3/envs/ampEN/lib/python3.11/site-packages/numpy/lib/nanfunctions.py:1872: RuntimeWarning: Degrees of freedom <= 0 for slice.\n",
      "  var = nanvar(a, axis=axis, dtype=dtype, out=out, ddof=ddof,\n"
     ]
    }
   ],
   "source": [
    "output={'pat_ID':[],'elec_no':[],'mean_AE':[],'std_AE':[]}\n",
    "\n",
    "for i in range(1,17):\n",
    "    output['pat_ID'].append(\"ID\"+str(i))\n",
    "    output['elec_no'].append(out.query('pat_id==\"ID'+str(i)+'\"')['elec_no'].unique()[0])\n",
    "    a,b=nans(i)\n",
    "    output['mean_AE'].append(a)\n",
    "    output['std_AE'].append(b)\n",
    "\n",
    "df=pd.DataFrame.from_dict(output)\n",
    "df.to_json(\"../all_unfiltered_mean_AE_Swiss-Short.json\", orient='records')"
   ]
  },
  {
   "cell_type": "code",
   "execution_count": null,
   "metadata": {},
   "outputs": [],
   "source": []
  },
  {
   "cell_type": "markdown",
   "metadata": {},
   "source": [
    "all electrode data for Hist"
   ]
  },
  {
   "cell_type": "code",
   "execution_count": 3,
   "metadata": {},
   "outputs": [],
   "source": [
    "def pmf_calc(chans,mins,maxs):\n",
    "    hist, bin_edges = np.histogram(chans, bins=np.arange(mins, maxs + bin_size, bin_size))\n",
    "    bin_edges = 0.5 * (bin_edges[:-1] + bin_edges[1:])\n",
    "    pmf = hist / np.sum(hist)\n",
    "    return np.array(pmf),np.array(bin_edges)"
   ]
  },
  {
   "cell_type": "code",
   "execution_count": 4,
   "metadata": {},
   "outputs": [],
   "source": [
    "def elecs(t1,t2):\n",
    "    t1_index=int(np.ceil(t1*60*sampling_rate))\n",
    "    t2_index=int(np.ceil(t2*60*sampling_rate))\n",
    "\n",
    "    xt1=[];xt2=[];\n",
    "    for patid in range(1,17):\n",
    "        mat_files = glob.glob(os.path.join(data_path+\"ID\"+str(patid), '*.mat'))\n",
    "        no_of_seizures = len(mat_files)\n",
    "\n",
    "        for i in range(1,no_of_seizures+1):\n",
    "            filename = os.path.join(data_path, \"ID\"+str(patid)+\"/Sz\"+str(i)+\".mat\")\n",
    "            mat=scipy.io.loadmat(filename)\n",
    "            alldata=np.array(mat.get('EEG'))\n",
    "\n",
    "            number_of_datapoints, number_of_channels = alldata.shape    \n",
    "            Aamplitude = np.empty((number_of_datapoints, number_of_channels))\n",
    "            for j in range(number_of_channels):\n",
    "                Aamplitude[:, j] = np.abs(scipy.signal.hilbert(alldata[:, j]))\n",
    "            \n",
    "            pm1,x1=pmf_calc(Aamplitude[t1_index,:],np.min(Aamplitude[t1_index,:]),np.max(Aamplitude[t1_index,:]))\n",
    "            pm2,x2=pmf_calc(Aamplitude[t2_index,:],np.min(Aamplitude[t2_index,:]),np.max(Aamplitude[t2_index,:]))\n",
    "            xt1.append(x1);xt2.append(x2);\n",
    "            \n",
    "    ot1=np.concatenate(xt1);ot2=np.concatenate(xt2);        \n",
    "    max_xt1=np.ceil(np.max(ot1)).astype(int);min_xt1=np.floor(np.min(ot1)).astype(int);\n",
    "    max_xt2=np.ceil(np.max(ot2)).astype(int);min_xt2=np.floor(np.min(ot2)).astype(int);\n",
    "    print(max_xt1,min_xt1,max_xt2,min_xt2)\n",
    "    \n",
    "    \n",
    "    outs={'fileID':[],'pat_id':[],'sez_id':[],'sez_len':[],'elec_no':[],'X_t1':[],'X_t2':[],'ampen_t1':[],'ampen_t2':[],'elecs_t1':[],'elecs_t2':[]}\n",
    "   \n",
    "    for patid in range(1,17):\n",
    "        mat_files = glob.glob(os.path.join(data_path+\"ID\"+str(patid), '*.mat'))\n",
    "        no_of_seizures = len(mat_files)\n",
    "\n",
    "        for i in range(1,no_of_seizures+1):\n",
    "            #print(patid,\",\",i)\n",
    "            filename = os.path.join(data_path, \"ID\"+str(patid)+\"/Sz\"+str(i)+\".mat\")\n",
    "            mat=scipy.io.loadmat(filename)\n",
    "            alldata=np.array(mat.get('EEG'))\n",
    "\n",
    "            number_of_datapoints, number_of_channels = alldata.shape    \n",
    "            Aamplitude = np.empty((number_of_datapoints, number_of_channels))\n",
    "            for j in range(number_of_channels):\n",
    "                Aamplitude[:, j] = np.abs(scipy.signal.hilbert(alldata[:, j]))\n",
    "                        \n",
    "            #Sampling rate is 512Hz and each seizure preceded and succeeded by a 3 mins long segment\n",
    "            sez_length=(np.shape(alldata)[0]/sampling_rate) - (2*3*60) #in seconds\n",
    "            no_elec=np.shape(alldata)[1]\n",
    "            \n",
    "            pm1,x1=pmf_calc(Aamplitude[t1_index,:],min_xt1,max_xt1)\n",
    "            pm2,x2=pmf_calc(Aamplitude[t2_index,:],min_xt2,max_xt2)\n",
    "            pm1f=pm1[pm1>0];pm2f=pm2[pm2>0];\n",
    "            \n",
    "            at1=-np.sum(pm1f * np.log2(pm1f))\n",
    "            at2=-np.sum(pm2f * np.log2(pm2f))\n",
    "                \n",
    "            outs['fileID'].append(\"p\"+str(patid)+\"s\"+str(i))#Recorded in seconds\n",
    "            outs['pat_id'].append(\"ID\"+str(patid))\n",
    "            outs['sez_id'].append(i)\n",
    "            outs['sez_len'].append(sez_length)\n",
    "            outs['elec_no'].append(no_elec)\n",
    "            outs['elecs_t1'].append(pm1)\n",
    "            outs['elecs_t2'].append(pm2)\n",
    "            outs['X_t1'].append(x1)\n",
    "            outs['X_t2'].append(x2)\n",
    "            outs['ampen_t1'].append(at1)\n",
    "            outs['ampen_t2'].append(at2)\n",
    "    return outs\n"
   ]
  },
  {
   "cell_type": "code",
   "execution_count": 5,
   "metadata": {},
   "outputs": [
    {
     "name": "stdout",
     "output_type": "stream",
     "text": [
      "1271 5 6308 5\n"
     ]
    }
   ],
   "source": [
    "st=2.5;\n",
    "ut=4;\n",
    "\n",
    "outp=pd.DataFrame.from_dict(elecs(st,ut))\n",
    "outp.to_json(\"../all_unfiltered_electrode_data_Swiss-Short_\"+str(st)+\"_\"+str(ut)+\".json\", orient='records')"
   ]
  },
  {
   "cell_type": "code",
   "execution_count": null,
   "metadata": {},
   "outputs": [],
   "source": []
  },
  {
   "cell_type": "code",
   "execution_count": null,
   "metadata": {},
   "outputs": [],
   "source": []
  },
  {
   "cell_type": "code",
   "execution_count": null,
   "metadata": {},
   "outputs": [],
   "source": []
  },
  {
   "cell_type": "markdown",
   "metadata": {},
   "source": [
    "## Curious case where the AE is almost the same for two seizures \n",
    "which later led to finite mean but zero sd when averaging over channels"
   ]
  },
  {
   "cell_type": "code",
   "execution_count": 63,
   "metadata": {},
   "outputs": [
    {
     "data": {
      "text/plain": [
       "array([213984, 214375, 214403, 215790, 218273, 218925, 219709, 222695,\n",
       "       223650, 224904])"
      ]
     },
     "execution_count": 63,
     "metadata": {},
     "output_type": "execute_result"
    }
   ],
   "source": [
    "ss=array([213984, 214375, 214403, 215790, 218273, 218925, 219709, 222695,\n",
    "       223650, 224904])"
   ]
  },
  {
   "cell_type": "markdown",
   "metadata": {},
   "source": [
    "data2 in from P2S2 and data4 is from P2S4"
   ]
  },
  {
   "cell_type": "code",
   "execution_count": 57,
   "metadata": {},
   "outputs": [
    {
     "name": "stdout",
     "output_type": "stream",
     "text": [
      "[4.00506355 3.96673878 3.85352717 3.91281824 4.44530701 4.15721497\n",
      " 4.07995039 4.49292605 3.84722568 4.32971765]\n"
     ]
    }
   ],
   "source": [
    "alldata=np.copy(data2)\n",
    "number_of_datapoints, number_of_channels = alldata.shape\n",
    "    \n",
    "# Filtering all the channels\n",
    "Aamplitude = np.empty((number_of_datapoints, number_of_channels))\n",
    "for i in range(number_of_channels):\n",
    "    Aamplitude[:, i] = np.abs(hilbert(alldata[:, i]))\n",
    "\n",
    "en = np.empty(number_of_datapoints)\n",
    "\n",
    "# Calculating Entropies across channels\n",
    "for t in range(number_of_datapoints):\n",
    "    hist, bin_edges = np.histogram(Aamplitude[t, :], bins=np.arange(min(Aamplitude[t, :]), max(Aamplitude[t, :]) + bin_size, bin_size))\n",
    "    pmf = hist / np.sum(hist)\n",
    "    pmf = pmf[pmf > 0]\n",
    "    en[t] = -np.sum(pmf * np.log2(pmf))\n",
    "print(en[ss])"
   ]
  },
  {
   "cell_type": "code",
   "execution_count": 58,
   "metadata": {},
   "outputs": [
    {
     "name": "stdout",
     "output_type": "stream",
     "text": [
      "4.005063553576608\n"
     ]
    },
    {
     "data": {
      "image/png": "[encoded data removed]",
      "text/plain": [
       "<Figure size 640x480 with 2 Axes>"
      ]
     },
     "metadata": {},
     "output_type": "display_data"
    }
   ],
   "source": [
    "t=213984\n",
    "f,(ax1,ax2)=plt.subplots(1,2)\n",
    "ax1.hist(Aamplitude[t, :], bins=np.arange(min(Aamplitude[t, :]), max(Aamplitude[t, :]) + bin_size, bin_size))\n",
    "ax2.plot(Aamplitude[t, :])\n",
    "\n",
    "hist, bin_edges = np.histogram(Aamplitude[t, :], bins=np.arange(min(Aamplitude[t, :]), max(Aamplitude[t, :]) + bin_size, bin_size))\n",
    "pmf = hist / np.sum(hist)\n",
    "pmf = pmf[pmf > 0]\n",
    "print(-np.sum(pmf * np.log2(pmf)))"
   ]
  },
  {
   "cell_type": "code",
   "execution_count": 59,
   "metadata": {},
   "outputs": [
    {
     "name": "stdout",
     "output_type": "stream",
     "text": [
      "[4.00506355 3.96673878 3.85352717 3.91281824 4.44530701 4.15721497\n",
      " 4.07995039 4.49292605 3.84722568 4.32971765]\n"
     ]
    }
   ],
   "source": [
    "alldata=np.copy(data4)\n",
    "number_of_datapoints, number_of_channels = alldata.shape\n",
    "    \n",
    "# Filtering all the channels\n",
    "Aamplitude = np.empty((number_of_datapoints, number_of_channels))\n",
    "for i in range(number_of_channels):\n",
    "    Aamplitude[:, i] = np.abs(hilbert(alldata[:, i]))\n",
    "\n",
    "en = np.empty(number_of_datapoints)\n",
    "\n",
    "# Calculating Entropies across channels\n",
    "for t in range(number_of_datapoints):\n",
    "    hist, bin_edges = np.histogram(Aamplitude[t, :], bins=np.arange(min(Aamplitude[t, :]), max(Aamplitude[t, :]) + bin_size, bin_size))\n",
    "    pmf = hist / np.sum(hist)\n",
    "    pmf = pmf[pmf > 0]\n",
    "    en[t] = -np.sum(pmf * np.log2(pmf))\n",
    "print(en[ss])"
   ]
  },
  {
   "cell_type": "code",
   "execution_count": 60,
   "metadata": {},
   "outputs": [
    {
     "name": "stdout",
     "output_type": "stream",
     "text": [
      "4.0050635535766075\n"
     ]
    },
    {
     "data": {
      "image/png": "[encoded data removed]",
      "text/plain": [
       "<Figure size 640x480 with 2 Axes>"
      ]
     },
     "metadata": {},
     "output_type": "display_data"
    }
   ],
   "source": [
    "t=213984\n",
    "f,(ax1,ax2)=plt.subplots(1,2)\n",
    "ax1.hist(Aamplitude[t, :], bins=np.arange(min(Aamplitude[t, :]), max(Aamplitude[t, :]) + bin_size, bin_size))\n",
    "ax2.plot(Aamplitude[t, :])\n",
    "\n",
    "hist, bin_edges = np.histogram(Aamplitude[t, :], bins=np.arange(min(Aamplitude[t, :]), max(Aamplitude[t, :]) + bin_size, bin_size))\n",
    "pmf = hist / np.sum(hist)\n",
    "pmf = pmf[pmf > 0]\n",
    "print(-np.sum(pmf * np.log2(pmf)))"
   ]
  },
  {
   "cell_type": "code",
   "execution_count": 62,
   "metadata": {},
   "outputs": [
    {
     "data": {
      "text/plain": [
       "8.881784197001252e-16"
      ]
     },
     "execution_count": 62,
     "metadata": {},
     "output_type": "execute_result"
    }
   ],
   "source": [
    "\n",
    "4.005063553576608 - 4.0050635535766075"
   ]
  },
  {
   "cell_type": "code",
   "execution_count": null,
   "metadata": {},
   "outputs": [],
   "source": []
  }
 ],
 "metadata": {
  "kernelspec": {
   "display_name": "ampEN",
   "language": "python",
   "name": "python3"
  },
  "language_info": {
   "codemirror_mode": {
    "name": "ipython",
    "version": 3
   },
   "file_extension": ".py",
   "mimetype": "text/x-python",
   "name": "python",
   "nbconvert_exporter": "python",
   "pygments_lexer": "ipython3",
   "version": "3.11.4"
  },
  "orig_nbformat": 4
 },
 "nbformat": 4,
 "nbformat_minor": 2
}
