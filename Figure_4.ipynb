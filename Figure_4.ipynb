{
 "cells": [
  {
   "cell_type": "code",
   "execution_count": null,
   "metadata": {},
   "outputs": [],
   "source": [
    "import pandas as pd\n",
    "import numpy as np\n",
    "import scipy.signal\n",
    "import os\n",
    "import glob"
   ]
  },
  {
   "cell_type": "code",
   "execution_count": null,
   "metadata": {},
   "outputs": [],
   "source": [
    "import plotly.graph_objects as go\n",
    "import plotly.express as px\n",
    "from plotly.subplots import make_subplots"
   ]
  },
  {
   "cell_type": "code",
   "execution_count": null,
   "metadata": {},
   "outputs": [],
   "source": [
    "#Global variables\n",
    "sampling_rate=512;\n",
    "bin_size=10;\n",
    "#Time window to show\n",
    "t1=2;t2=5;"
   ]
  },
  {
   "cell_type": "code",
   "execution_count": null,
   "metadata": {},
   "outputs": [],
   "source": [
    "df=pd.read_json(\"../all_unfiltered_mean_AE_Swiss-Short.json\",orient=\"records\")\n",
    "df.head()"
   ]
  },
  {
   "cell_type": "code",
   "execution_count": null,
   "metadata": {},
   "outputs": [],
   "source": [
    "# no_of_timepoints=len(df.loc[0]['mean_AE'])\n",
    "# time=np.arange(0,no_of_timepoints)/(60*sampling_rate)\n",
    "\n",
    "# fig= make_subplots(rows=8, cols=2,vertical_spacing=0.01,horizontal_spacing=0.01,shared_xaxes='all',shared_yaxes='all',subplot_titles=(\"ID1\",\"ID2\",\"ID3\",\"ID4\",\"ID5\",\"ID6\",\"ID7\",\"ID8\",\"ID9\",\"ID10\",\"ID11\",\"ID12\",\"ID13\",\"ID14\",\"ID15\",\"ID16\"))\n",
    "\n",
    "# pid=1\n",
    "# for ridx in range(1,9):\n",
    "#     for cidx in range(1,3):\n",
    "#         tim=time[(t1*60*sampling_rate):(t2*60*sampling_rate)]\n",
    "#         mean=np.array(df.loc[pid-1]['mean_AE'][(t1*60*sampling_rate):(t2*60*sampling_rate)])\n",
    "#         #stdd=np.array(df.loc[pid-1]['std_aa'][(2*60*sampling_rate):(5*60*sampling_rate)])\n",
    "\n",
    "\n",
    "#         fig.add_trace(go.Scatter(x=tim,y=mean,\n",
    "#                                 mode='lines',\n",
    "#                                 line=dict(width=0.5),\n",
    "#                                 showlegend=False,\n",
    "#                                 ),row=ridx,col=cidx)\n",
    "#         pid+=1\n",
    "\n",
    "\n",
    "# fig.update_xaxes(title_text=\"Time (in Mins)\",range=(t1,t2),row=all,col=all)\n",
    "# fig.update_yaxes(title_text=\"average AE\",range=(2,5.5),row=all,col=all)\n",
    "# fig.add_shape(dict(type=\"line\",x0=3,y0=2,x1=3,y1=5.5,line=dict(color=\"red\", width=3)),row=\"all\",col=\"all\")\n",
    "\n",
    "# fig.add_shape(dict(type=\"line\",x0=2.5,y0=2,x1=2.5,y1=5.5,line=dict(color=\"green\", dash='dashdot',width=1)),row=\"all\",col=\"all\")\n",
    "# fig.add_shape(dict(type=\"line\",x0=4,y0=2,x1=4,y1=5.5,line=dict(color=\"green\",dash='dashdot',width=1)),row=\"all\",col=\"all\")\n",
    "\n",
    "# fig.update_layout(\n",
    "#         template=\"simple_white\",\n",
    "#         legend=dict(orientation=\"h\",yanchor=\"bottom\",y=1.02,xanchor=\"center\",x=0.5,font=dict(size=40)),\n",
    "#         font_family=\"Times new Roman\",font_color=\"black\",font_size=25,height=1800,width=1500)\n",
    "\n",
    "\n",
    "# fig.show()\n",
    "# fig.write_image(\"../images/Fig4C.png\")\n",
    "# fig.write_html(\"interactive_Figures/Fig4C.html\")"
   ]
  },
  {
   "cell_type": "code",
   "execution_count": null,
   "metadata": {},
   "outputs": [],
   "source": [
    "no_of_timepoints=len(df['mean_AE'][0])\n",
    "time=np.arange(0,no_of_timepoints)/(60*sampling_rate)\n",
    "\n",
    "#replacing None with np.nan\n",
    "df['mean_AE'] = df['mean_AE'].apply(lambda x: [np.nan if val is None else val for val in x])\n",
    "df['std_AE'] = df['std_AE'].apply(lambda x: [np.nan if val is None else val for val in x])"
   ]
  },
  {
   "cell_type": "code",
   "execution_count": null,
   "metadata": {},
   "outputs": [],
   "source": [
    "mean_AE= np.nanmean(np.array(df['mean_AE'].tolist()),axis=0)\n",
    "std_AE = np.nanstd(np.array(df['std_AE'].tolist()),axis=0,ddof=1)\n",
    "std_AE = np.where(np.isnan(std_AE),0.0, std_AE) # replacing np.nan with 0.0\n",
    "\n",
    "time=time[(t1*60*sampling_rate):(t2*60*sampling_rate)]\n",
    "mean_AE=mean_AE[(t1*60*sampling_rate):(t2*60*sampling_rate)]\n",
    "std_AE=std_AE[(t1*60*sampling_rate):(t2*60*sampling_rate)]"
   ]
  },
  {
   "cell_type": "code",
   "execution_count": null,
   "metadata": {},
   "outputs": [],
   "source": [
    "# #fig= make_subplots(rows=2, cols=1,vertical_spacing=0.1,shared_yaxes=\"all\")\n",
    "# fig=go.Figure()\n",
    "\n",
    "\n",
    "\n",
    "# fig.add_trace(go.Scatter(x=time,y=mean_AE,mode='lines',\n",
    "#                         line=dict(color='rgb(31, 119, 180)'),\n",
    "#                         showlegend=False))\n",
    "\n",
    "# fig.add_trace(go.Scatter(x=time,y=mean_AE+std_AE,\n",
    "#         mode='lines',marker=dict(color=\"#444\"),line=dict(width=0),showlegend=False))\n",
    "\n",
    "# fig.add_trace(go.Scatter(x=time,y=mean_AE-std_AE,\n",
    "#                          marker=dict(color=\"#444\"),line=dict(width=0),mode='lines',\n",
    "#                          fillcolor='rgba(68, 68, 68, 0.3)',fill='tonexty',showlegend=False))\n",
    "\n",
    "\n",
    "# fig.update_yaxes(title_text=\"average AE\",range=(2.8,5))\n",
    "# fig.update_xaxes(title_text=\"Time (in Mins)\",range=(t1,t2))\n",
    "# fig.add_shape(dict(type=\"line\",x0=3,y0=2.8,x1=3,y1=5,line=dict(color=\"red\", width=3)))\n",
    "\n",
    "# fig.add_shape(dict(type=\"line\",x0=2.5,y0=2.8,x1=2.5,y1=5,line=dict(color=\"black\", dash='dashdot',width=1)))\n",
    "# fig.add_shape(dict(type=\"line\",x0=3.5,y0=2.8,x1=3.5,y1=5,line=dict(color=\"black\", dash='dashdot',width=1)))\n",
    "\n",
    "# fig.update_layout(\n",
    "#         template=\"plotly_white\",\n",
    "#         legend=dict(orientation=\"h\",yanchor=\"bottom\",y=1.02,xanchor=\"center\",x=0.5,font=dict(size=40)),\n",
    "#         font_family=\"Times new Roman\",font_color=\"blue\",font_size=25,height=600,width=1200)\n",
    "\n",
    "\n",
    "# fig.show()\n",
    "# fig.write_image(\"../Link to img/Fig4A.png\")\n",
    "# fig.write_html(\"interactive_Figures/Fig4A.html\")"
   ]
  },
  {
   "cell_type": "code",
   "execution_count": null,
   "metadata": {},
   "outputs": [],
   "source": []
  },
  {
   "cell_type": "code",
   "execution_count": null,
   "metadata": {},
   "outputs": [],
   "source": [
    "st=2.5;ut=4;\n",
    "outp=pd.read_json(\"../all_unfiltered_electrode_data_Swiss-Short_\"+str(st)+\"_\"+str(ut)+\".json\",orient=\"records\")\n",
    "outp.head()"
   ]
  },
  {
   "cell_type": "code",
   "execution_count": null,
   "metadata": {},
   "outputs": [],
   "source": [
    "output={'pat_ID':[],'elec_no':[],'X_t1':[],'X_t2':[],'elecs_t1':[],'elecs_t2':[],'ampen_t1':[],'ampen_t2':[]}\n",
    "\n",
    "for pid in range(1,17):\n",
    "    s=outp.query('pat_id==\"ID'+str(pid)+'\"')[['ampen_t1','elecs_t1','X_t1','X_t2','ampen_t2','elecs_t2']];\n",
    "    \n",
    "    #replacing 0s with np.nan\n",
    "    s['elecs_t1'] = s['elecs_t1'].apply(lambda x: [np.nan if val==0.0 else val for val in x])\n",
    "    #replacing 0s with np.nan\n",
    "    s['elecs_t2'] = s['elecs_t2'].apply(lambda x: [np.nan if val==0.0 else val for val in x])\n",
    "    #Not bothering with X_t1,X_t2 and ampen_t1,ampen_t2 as they are same and don't have 0s\n",
    "\n",
    "    output['pat_ID'].append(\"ID\"+str(pid))\n",
    "    output['elec_no'].append(outp.query('pat_id==\"ID'+str(pid)+'\"')['elec_no'].unique()[0])\n",
    "    \n",
    "    output['X_t1'].append(np.nanmean(np.array(s['X_t1'].tolist()),axis=0))\n",
    "    output['X_t2'].append(np.nanmean(np.array(s['X_t2'].tolist()),axis=0))\n",
    "  \n",
    "    output['elecs_t1'].append(np.nanmean(np.array(s['elecs_t1'].tolist()),axis=0))\n",
    "    output['elecs_t2'].append(np.nanmean(np.array(s['elecs_t2'].tolist()),axis=0))\n",
    "    \n",
    "    output['ampen_t1'].append(s['ampen_t1'].mean())\n",
    "    output['ampen_t2'].append(s['ampen_t2'].mean())\n",
    "\n",
    "outS=pd.DataFrame.from_dict(output)\n",
    "outS.head()"
   ]
  },
  {
   "cell_type": "code",
   "execution_count": null,
   "metadata": {},
   "outputs": [],
   "source": [
    "y1m = np.nanmean(np.array(outS['elecs_t1'].tolist()),axis=0)\n",
    "x1m = np.nanmean(np.array(outS['X_t1'].tolist()),axis=0)\n",
    "y2m = np.nanmean(np.array(outS['elecs_t2'].tolist()),axis=0)\n",
    "x2m = np.nanmean(np.array(outS['X_t2'].tolist()),axis=0)"
   ]
  },
  {
   "cell_type": "code",
   "execution_count": null,
   "metadata": {},
   "outputs": [],
   "source": [
    "fig = make_subplots(\n",
    "    rows=2, cols=2,shared_yaxes='rows',vertical_spacing=0.1,horizontal_spacing=0.01,\n",
    "    specs=[[{}, {}],\n",
    "           [{\"colspan\": 2}, None]],\n",
    "    subplot_titles=(\"Time T1\",\"Time T2\", \"\"))\n",
    "\n",
    "fig.add_trace(go.Bar(name='t1', x=x1m, y=y1m,showlegend=False),row=1,col=1)\n",
    "fig.add_trace(go.Bar(name='t2', x=x2m[:len(x1m)], y=y2m[:len(x1m)],showlegend=False),row=1,col=2)\n",
    "\n",
    "\n",
    "fig.add_trace(go.Scatter(x=time,y=mean_AE,mode='lines',\n",
    "                        line=dict(color='blue'),\n",
    "                        showlegend=False),row=2,col=1)\n",
    "\n",
    "fig.add_trace(go.Scatter(x=time,y=mean_AE+std_AE,\n",
    "        mode='lines',marker=dict(color=\"#444\"),line=dict(width=0),showlegend=False),row=2,col=1)\n",
    "\n",
    "fig.add_trace(go.Scatter(x=time,y=mean_AE-std_AE,\n",
    "                         marker=dict(color=\"#444\"),line=dict(width=0),mode='lines',\n",
    "                         fillcolor='rgba(75,   0, 130, 0.3)',fill='tonexty',showlegend=False),row=2,col=1)\n",
    "\n",
    "fig.update_yaxes(title_text=\"average AE\",range=(2.8,5),row=2,col=1)\n",
    "fig.update_xaxes(title_text=\"Time (in Mins)\",row=2,col=1)\n",
    "\n",
    "fig.add_shape(dict(type=\"line\",x0=3,y0=2.8,x1=3,y1=5,line=dict(color=\"red\", width=3)),row=2,col=1)\n",
    "\n",
    "fig.add_shape(dict(type=\"line\",x0=2.5,y0=2.8,x1=2.5,y1=5,line=dict(color=\"black\", dash='dashdot',width=1)),row=2,col=1)\n",
    "fig.add_shape(dict(type=\"line\",x0=4,y0=2.8,x1=4,y1=5,line=dict(color=\"black\", dash='dashdot',width=1)),row=2,col=1)\n",
    "\n",
    "fig.add_annotation(dict(text=\"mean AE \"+str(np.round(outS['ampen_t1'].mean(),decimals=2)),xref='x',yref='y',\n",
    "                x=800,y=0.14,showarrow=False),\n",
    "                font=dict(size=30, color=\"blue\",family=\"Times new Roman\"),\n",
    "                row=1, col=1)\n",
    "fig.add_annotation(dict(text=\"mean AE \"+str(np.round(outS['ampen_t2'].mean(),decimals=2)),xref='x',yref='y',\n",
    "                x=800,y=0.14,showarrow=False),\n",
    "                font=dict(size=30, color=\"blue\",family=\"Times new Roman\"),\n",
    "                row=1, col=2)\n",
    "\n",
    "fig.add_annotation(dict(text=\"T1\",xref='x',yref='y',\n",
    "        x=2.5,y=4.5,showarrow=False),font=dict(size=30, color=\"blue\",family=\"Times new Roman\"),\n",
    "        row=2, col=1)\n",
    "\n",
    "fig.add_annotation(dict(text=\"T2\",xref='x',yref='y',\n",
    "        x=4,y=3.5,showarrow=False),font=dict(size=30, color=\"blue\",family=\"Times new Roman\"),\n",
    "        row=2, col=1)\n",
    "\n",
    "fig.add_annotation(dict(text=\"seizure onset\",xref='x',yref='y',\n",
    "        x=3,y=4.5,showarrow=False),font=dict(size=30, color=\"blue\",family=\"Times new Roman\"),\n",
    "        row=2, col=1)\n",
    "\n",
    "fig.update_layout(\n",
    "        template=\"plotly_white\",\n",
    "        #legend=dict(orientation=\"h\",yanchor=\"bottom\",y=1.02,xanchor=\"center\",x=0.5,font=dict(size=40)),\n",
    "        font_family=\"Times new Roman\",font_color=\"black\",font_size=25,height=900,width=1500)\n",
    "\n",
    "fig.update_traces(textposition='top right',row=2,col=1)\n",
    "\n",
    "fig.show()\n",
    "# fig.write_image(\"../Link to img/Fig4.png\")\n",
    "#fig.write_html(\"interactive_Figures/Fig4.html\")\n",
    "\n"
   ]
  },
  {
   "cell_type": "code",
   "execution_count": null,
   "metadata": {},
   "outputs": [],
   "source": []
  },
  {
   "cell_type": "code",
   "execution_count": null,
   "metadata": {},
   "outputs": [],
   "source": []
  },
  {
   "cell_type": "markdown",
   "metadata": {},
   "source": [
    "Indiv Plots"
   ]
  },
  {
   "cell_type": "code",
   "execution_count": null,
   "metadata": {},
   "outputs": [],
   "source": [
    "fig=make_subplots(rows=1, cols=2,horizontal_spacing=0.01,shared_yaxes=\"all\")\n",
    "\n",
    "\n",
    "# fig.add_trace(go.Bar(name='t1', x=x1m, y=y1m),row=1,col=1)\n",
    "# fig.add_trace(go.Bar(name='t2', x=x2m[:len(x1m)], y=y2m[:len(x1m)]),row=1,col=2)\n",
    "\n",
    "\n",
    "fig.add_trace(go.Bar(name='t1', x=x1m, y=y1m),row=1,col=1)\n",
    "fig.add_trace(go.Bar(name='t2', x=x2m, y=y2m),row=1,col=2)\n",
    "\n",
    "\n",
    "\n",
    "\n",
    "\n",
    "\n",
    "\n",
    "fig.update_layout(\n",
    "        template=\"plotly_white\",\n",
    "        legend=dict(orientation=\"h\",yanchor=\"bottom\",y=1.02,xanchor=\"center\",x=0.5,font=dict(size=40)),\n",
    "        font_family=\"Times new Roman\",font_color=\"blue\",font_size=25,height=600,width=1200)\n",
    "\n",
    "\n"
   ]
  },
  {
   "cell_type": "code",
   "execution_count": null,
   "metadata": {},
   "outputs": [],
   "source": []
  },
  {
   "cell_type": "code",
   "execution_count": null,
   "metadata": {},
   "outputs": [],
   "source": [
    "import matplotlib.pyplot as plt"
   ]
  },
  {
   "cell_type": "code",
   "execution_count": null,
   "metadata": {},
   "outputs": [],
   "source": [
    "f,ax=plt.subplots(figsize=(20,10))\n",
    "ax.bar(x1m[~np.isnan(y1m)],y1m[~np.isnan(y1m)],width=2,color='red',label=\"t=\"+str(st)+\"min\")\n",
    "ax.bar(x2m[~np.isnan(y2m)]+5,y2m[~np.isnan(y2m)],width=2,color='blue',label=\"t=\"+str(ut)+\"min\")\n",
    "ax.set_title(\"ID\"+str(pid),fontsize=20)\n",
    "ax.legend()\n",
    "ax.grid()\n",
    "ax.set_xlim([0,2000])\n",
    "textstr = '\\n'.join((\n",
    "    r'$\\mathrm{AE_{t1}}=%.2f$' % (outS['ampen_t1'].mean()),\n",
    "    r'$\\mathrm{AE_{t2}}=%.2f$' % (outS['ampen_t2'].mean())))\n",
    "# place a text box in upper left in axes coords\n",
    "ax.text(0.9, 0.90, textstr, transform=ax.transAxes, fontsize=14,verticalalignment='top')\n",
    "    "
   ]
  },
  {
   "cell_type": "code",
   "execution_count": null,
   "metadata": {},
   "outputs": [],
   "source": []
  },
  {
   "cell_type": "code",
   "execution_count": null,
   "metadata": {},
   "outputs": [],
   "source": [
    "for pid in range(1,17):\n",
    "    s=outp.query('pat_id==\"ID'+str(pid)+'\"')[['ampen_t1','elecs_t1','X_t1','X_t2','ampen_t2','elecs_t2']]\n",
    "    #replacing 0s with np.nan\n",
    "    s['elecs_t1'] = s['elecs_t1'].apply(lambda x: [np.nan if val==0.0 else val for val in x])\n",
    "    #replacing 0s with np.nan\n",
    "    s['elecs_t2'] = s['elecs_t2'].apply(lambda x: [np.nan if val==0.0 else val for val in x])\n",
    "    #Not bothering with X_t1,X_t2 and ampen_t1,ampen_t2 as they are same and don't have 0s\n",
    "\n",
    "    y1m = np.nanmean(np.array(s['elecs_t1'].tolist()),axis=0)\n",
    "    x1m = np.nanmean(np.array(s['X_t1'].tolist()),axis=0)\n",
    "    y2m = np.nanmean(np.array(s['elecs_t2'].tolist()),axis=0)\n",
    "    x2m = np.nanmean(np.array(s['X_t2'].tolist()),axis=0)\n",
    "    \n",
    "    f,ax=plt.subplots(figsize=(20,10))\n",
    "    ax.bar(x1m[~np.isnan(y1m)],y1m[~np.isnan(y1m)],width=2,color='red',label=\"t=\"+str(st)+\"min\")\n",
    "    ax.bar(x2m[~np.isnan(y2m)],y2m[~np.isnan(y2m)],width=2,color='blue',label=\"t=\"+str(ut)+\"min\")\n",
    "    ax.set_title(\"ID\"+str(pid),fontsize=20)\n",
    "    ax.legend()\n",
    "    ax.grid()\n",
    "    textstr = '\\n'.join((\n",
    "        r'$\\mathrm{AE_{t1}}=%.2f$' % (s['ampen_t1'].mean()),\n",
    "        r'$\\mathrm{AE_{t2}}=%.2f$' % (s['ampen_t2'].mean())))\n",
    "    # place a text box in upper left in axes coords\n",
    "    ax.text(0.9, 0.90, textstr, transform=ax.transAxes, fontsize=14,verticalalignment='top')\n",
    "    \n",
    "    f.tight_layout()\n",
    "    f.savefig(\"../images/Fig4Bs/ID\"+str(pid)+\".png\")\n",
    "    f.savefig(\"Isa_See_this/ID\"+str(pid)+\".png\")\n",
    "    plt.close(f)"
   ]
  },
  {
   "cell_type": "code",
   "execution_count": null,
   "metadata": {},
   "outputs": [],
   "source": []
  }
 ],
 "metadata": {
  "kernelspec": {
   "display_name": "ampEN",
   "language": "python",
   "name": "python3"
  },
  "language_info": {
   "codemirror_mode": {
    "name": "ipython",
    "version": 3
   },
   "file_extension": ".py",
   "mimetype": "text/x-python",
   "name": "python",
   "nbconvert_exporter": "python",
   "pygments_lexer": "ipython3",
   "version": "3.11.4"
  },
  "orig_nbformat": 4
 },
 "nbformat": 4,
 "nbformat_minor": 2
}
